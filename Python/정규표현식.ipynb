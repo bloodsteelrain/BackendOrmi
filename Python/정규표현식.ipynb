{
  "nbformat": 4,
  "nbformat_minor": 0,
  "metadata": {
    "colab": {
      "provenance": []
    },
    "kernelspec": {
      "name": "python3",
      "display_name": "Python 3"
    },
    "language_info": {
      "name": "python"
    }
  },
  "cells": [
    {
      "cell_type": "markdown",
      "source": [
        "## 정규표현식\n",
        "* Anchors (처음과 끝)\n",
        "    ```\n",
        "    /^hello/gm : 처음에 hello\n",
        "    /hello$/gm : 끝에 hello\n",
        "    ```\n",
        "* dot (모든 문자)\n",
        "    ```\n",
        "    /.ello/gm : hello, Hello, yello\n",
        "    /./gm : 모든 문자열(*과 같은 역할)\n",
        "    /....../gm : 모든 6개의 문자열\n",
        "    ```\n",
        "* 대괄호 (택1)\n",
        "    ```\n",
        "    /h[eay]llo/gm : 대괄호 안에 문자는 문자 1개에 해당!\n",
        "    /h[ea]l../gm : 총 5개의 문자\n",
        "    ```\n",
        "\n",
        "* 대쉬 (범위)\n",
        "    ```\n",
        "    /h[a-f]llo/gm\n",
        "    /[a-zA-Z0-9]/gm : 모든 알파뱃과 숫자를 찾음\n",
        "    /[^a-zA-Z0-9]/gm : 나머지 문자열을 찾음\n",
        "    ```\n",
        "\n",
        "* 캐럿^ (대괄호 안에 들어가면 부정)\n",
        "    * 아래 경우 a와 e가 모두 부정\n",
        "    ```\n",
        "    /h[^ae]llo/gm : 대괄호 안에 있다면 not에 의미\n",
        "    ```\n",
        "\n",
        "* 소괄호 (서브패턴, 그룹)\n",
        "    * 패턴으로 외우는 것보다 예제로 습득 권장\n",
        "    ```\n",
        "    /(on|ues|rida)/gm : 그룹 1로 3개 중 매칭되는 패턴 찾음\n",
        "    ```\n",
        "* 수량자\n",
        "    ```\n",
        "    _* : 앞에 있는 문자가 0개 ~ N개\n",
        "    _+ : 앞에 있는 문자가 1개 ~ N개\n",
        "    _? : 앞에 있는 문자가 0개 ~ 1개\n",
        "\n",
        "    {3} : 3개\n",
        "    {3,} : 3개 이상\n",
        "    {1,3} : 1개 ~ 3개\n",
        "\n",
        "    _* : 앞에 있는 문자가 0개 ~ N개 ({0,})\n",
        "    _+ : 앞에 있는 문자가 1개 ~ N개({1,})\n",
        "    _? : 앞에 있는 문자가 0개 ~ 1개 ({0,1})\n",
        "\n",
        "    /[0-9]{3}[-.* ][0-9]{4}[-.* ][0-9]{4}/gm\n",
        "    /[0-9a-zA-Z]{2,3}[-.* ][0-9]{3,4}[-.* ][0-9]{4}/gm\n",
        "    /[0-9a-zA-Z]+@[0-9a-zA-Z]+.[a-zA-Z]+/gm\n",
        "    ```\n",
        "\n",
        "* 캐릭터 클래스\n",
        "    ```\n",
        "    /\\w/gm : 워드\n",
        "    /\\w{5} /gm : 5개의 글자와 스페이스 하나\n",
        "    /\\W/gm : not 워드\n",
        "    /\\d/gm : 숫자\n",
        "    /\\D/gm : not 숫자\n",
        "    /\\s/gm : 스페이스\n",
        "    /\\S/gm : not 스페이스\n",
        "    ```\n",
        "\n",
        "* 이스케이프 문자\n",
        "    ```\n",
        "    /\\[.*]/gm : 대괄호([]) 안에 감싸여진 문자열\n",
        "    /\\(.*\\)/gm : 소괄호 안에 감싸여진 문자열\n",
        "    /\\\\.*\\//gm : 이미 사용되고 있는 특수문자로 감싸여진 문자열\n",
        "    /-.*-/gm : 이스케이프 문자를 사용할 필요가 없는 경우\n",
        "    /\\^\\^/gm : 이스케이프 문자가 필요한 경우\n",
        "    /:\\)/gm : 이스케이프 문자가 필요한 경우\n",
        "    ```\n",
        "\n",
        "* 전화번호\n",
        "    ```\n",
        "    010[-,. ]?[0-9]{4}[-,. ]?[0-9]{4}\n",
        "    010([-,. ]?[0-9]{4}){2}\n",
        "    ```"
      ],
      "metadata": {
        "id": "1mZYTZIZ1XBZ"
      }
    },
    {
      "cell_type": "markdown",
      "source": [
        "* 공식문서 : https://docs.python.org/ko/3/library/re.html"
      ],
      "metadata": {
        "id": "tMxWSKIBAmTO"
      }
    },
    {
      "cell_type": "markdown",
      "source": [
        "* 정규표현식에서 자주 사용되는 패턴\n",
        "    * 아래와 같이 2가지 방법으로 사용할 수 있습니다.\n",
        "    ```\n",
        "    # 1\n",
        "    p = re.compile(r'([0-9]|10)([SDT])([\\*\\#]?)')\n",
        "    p.findall('1S2D*3T')\n",
        "\n",
        "    # 2\n",
        "    re.findall(r'([0-9]|10)([SDT])([\\*\\#]?)', '1S2D*3T')\n",
        "    ```\n",
        "    * compile() : 패턴 컴파일\n",
        "    * match() : 문자열의 앞 부분이 매치되는가를 체크, 추출\n",
        "    * sub() : 매치된 부분을 치환 (str의 replace와 같은 역할)\n",
        "    * search() : 선두에 한해서 매치하는지를 체크, 추출\n",
        "    * findall() : 매치된 부분 모두 리스트 반환\n",
        "    * finditer() : 정규식과 매치되는 모든 문자열(substring)을 반복 가능한 객체로 리턴한다.\n",
        "    * spilt() : 정규표현 패턴으로 문자열을 분할 (str의 split과 같은 역할)\n",
        "\n",
        "* 반환 객체의 값\n",
        "    * group() : 매치된 문자열\n",
        "    * groups() : 매치된 문자열 전체\n",
        "    * start() : 매치된 문자열의 시작 위치\n",
        "    * end() : 매치된 문자열의 끝 위치\n",
        "    * span() : 매치된 문자열의 시작과 끝\n",
        "\n",
        "* 컴파일 옵션(플래그)\n",
        "    * 사용 예\n",
        "    ```\n",
        "    re.compile('[a-z]+', re.I)\n",
        "    ```\n",
        "    * re.DOTALL, re.S : 줄바꿈 문자까지 모두 매칭\n",
        "    * re.IGNORECASE, re.I : 대소문자 구분하지 않음\n",
        "    * re.MULTILINE, re.M : ^, & 등의 매칭 패턴을 라인마다 적용\n",
        "    * re.VERBOSE, re.X : 아래와 같이 #으로 주석문을 사용할 수 있음\n",
        "    ```\n",
        "    a = re.compile(r\"\"\"\\d +  # the integral part\n",
        "        # the decimal point \\d *  # some fractional digits\"\"\", re.X)\n",
        "    b = re.compile(r\"\\d+.\\d*\")\n",
        "    ```\n",
        "    \n",
        "* tip\n",
        "    * 같은 패턴입니다.\n",
        "    ```\n",
        "    re.compile('\\\\section')\n",
        "    re.compile(r'\\section')\n",
        "    ```\n",
        "    * {}를 표현하고 싶을 때에는 중괄호 2개, 또는 때에 따라 3개가 필요합니다.\n",
        "    ```\n",
        "    re.compile(f'{{section}}')\n",
        "    ```"
      ],
      "metadata": {
        "id": "hsaS2CEpA0dG"
      }
    },
    {
      "cell_type": "code",
      "execution_count": null,
      "metadata": {
        "colab": {
          "base_uri": "https://localhost:8080/"
        },
        "id": "m4KvusgLzuwG",
        "outputId": "b768b31d-6ee8-4e14-89b5-45c01a3f749a"
      },
      "outputs": [
        {
          "output_type": "execute_result",
          "data": {
            "text/plain": [
              "[('1', 'S', ''), ('2', 'D', '*'), ('3', 'T', '')]"
            ]
          },
          "metadata": {},
          "execution_count": 1
        }
      ],
      "source": [
        "import re\n",
        "\n",
        "p = re.compile(r'([0-9]|10)([SDT])([\\*\\#]?)')\n",
        "p.findall('1S2D*3T') # 2 + 8 + 27"
      ]
    },
    {
      "cell_type": "markdown",
      "source": [
        "## compile (패턴 만들기)"
      ],
      "metadata": {
        "id": "GoKtfz_YE3dM"
      }
    },
    {
      "cell_type": "code",
      "source": [
        "import re\n",
        "\n",
        "p = re.compile('h[eao]llo')"
      ],
      "metadata": {
        "id": "n29eUUsJE2_F"
      },
      "execution_count": null,
      "outputs": []
    },
    {
      "cell_type": "code",
      "source": [
        "text = '''hello\n",
        "hallo\n",
        "hollo'''\n",
        "text"
      ],
      "metadata": {
        "colab": {
          "base_uri": "https://localhost:8080/",
          "height": 35
        },
        "id": "ypVArt98FL-t",
        "outputId": "990039ba-deae-4541-d137-66928db4f8b4"
      },
      "execution_count": null,
      "outputs": [
        {
          "output_type": "execute_result",
          "data": {
            "text/plain": [
              "'hello\\nhallo\\nhollo'"
            ],
            "application/vnd.google.colaboratory.intrinsic+json": {
              "type": "string"
            }
          },
          "metadata": {},
          "execution_count": 2
        }
      ]
    },
    {
      "cell_type": "markdown",
      "source": [
        "## match"
      ],
      "metadata": {
        "id": "Lb_5UQ33FmTj"
      }
    },
    {
      "cell_type": "code",
      "source": [
        "# 실무에서는 특정한 패턴이 존재하는지만 사용하는 것으로 많이 사용합니다.\n",
        "# 찾아서 무언가를 하는 것은 findall이나 sub 같은 메서드를 많이 사용합니다."
      ],
      "metadata": {
        "id": "9uBzmAcNHQJy"
      },
      "execution_count": null,
      "outputs": []
    },
    {
      "cell_type": "code",
      "source": [
        "import re\n",
        "\n",
        "p = re.compile('h[eao]llo')\n",
        "p.match('hello hallo hollo hillo hallo')"
      ],
      "metadata": {
        "colab": {
          "base_uri": "https://localhost:8080/"
        },
        "id": "Ko5gvK-gFgOE",
        "outputId": "38af7dbc-4644-425b-ba4f-d3e7610b7ec9"
      },
      "execution_count": null,
      "outputs": [
        {
          "output_type": "execute_result",
          "data": {
            "text/plain": [
              "<re.Match object; span=(0, 5), match='hello'>"
            ]
          },
          "metadata": {},
          "execution_count": 5
        }
      ]
    },
    {
      "cell_type": "code",
      "source": [
        "result = p.match('hello hallo hollo hillo hallo')\n",
        "result.group(0)\n",
        "# result.group(1)"
      ],
      "metadata": {
        "colab": {
          "base_uri": "https://localhost:8080/",
          "height": 35
        },
        "id": "TUytLBtRGGps",
        "outputId": "1d5ee383-2eec-4af3-e383-29b111087509"
      },
      "execution_count": null,
      "outputs": [
        {
          "output_type": "execute_result",
          "data": {
            "text/plain": [
              "'hello'"
            ],
            "application/vnd.google.colaboratory.intrinsic+json": {
              "type": "string"
            }
          },
          "metadata": {},
          "execution_count": 8
        }
      ]
    },
    {
      "cell_type": "code",
      "source": [
        "import re\n",
        "\n",
        "p = re.compile('(\\w+) (\\w+) (\\w+)')\n",
        "result = p.match('hello hallo hollo hillo hallo')\n",
        "result.group(0) # 전체 그룹\n",
        "result.group(1) # 그룹1\n",
        "result.group(2) # 그룹2\n",
        "result.group(3) # 그룹3"
      ],
      "metadata": {
        "colab": {
          "base_uri": "https://localhost:8080/",
          "height": 35
        },
        "id": "4quaQvtMGlw6",
        "outputId": "c029ce4b-6663-451b-9a33-6cab60d68a97"
      },
      "execution_count": null,
      "outputs": [
        {
          "output_type": "execute_result",
          "data": {
            "text/plain": [
              "'hollo'"
            ],
            "application/vnd.google.colaboratory.intrinsic+json": {
              "type": "string"
            }
          },
          "metadata": {},
          "execution_count": 11
        }
      ]
    },
    {
      "cell_type": "code",
      "source": [
        "import re\n",
        "\n",
        "p = re.compile('(\\w+) (\\w+) (\\w+)')\n",
        "result = p.match('hello hallo hollo hillo hallo')\n",
        "result.group(1, 2) # 그룹1, 그룹2"
      ],
      "metadata": {
        "colab": {
          "base_uri": "https://localhost:8080/"
        },
        "id": "-Ttkjn3qHG6U",
        "outputId": "f4eaf940-5960-446f-ed92-009a675d1fbf"
      },
      "execution_count": null,
      "outputs": [
        {
          "output_type": "execute_result",
          "data": {
            "text/plain": [
              "('hello', 'hallo')"
            ]
          },
          "metadata": {},
          "execution_count": 12
        }
      ]
    },
    {
      "cell_type": "code",
      "source": [
        "import re\n",
        "\n",
        "p = re.compile('h[eao]llo')\n",
        "p.match('hillo hallo hollo hillo hallo')\n",
        "# None값이 출력된 것\n",
        "# 문자열 앞쪽이 매칭이 안 된 것"
      ],
      "metadata": {
        "id": "J3qGcDm8Hq8T"
      },
      "execution_count": null,
      "outputs": []
    },
    {
      "cell_type": "code",
      "source": [
        "# 아래 문법은 match 말고도 다른 문법에서도 사용 가능\n",
        "m = re.match(r\"(?P<first_name>\\w+) (?P<last_name>\\w+)\", \"Malcolm Reynolds\")\n",
        "m.group('first_name'), m.group('last_name')"
      ],
      "metadata": {
        "colab": {
          "base_uri": "https://localhost:8080/"
        },
        "id": "HwSNc_7fH-1T",
        "outputId": "89cbef97-1d85-4240-e9bf-73b54336f7e5"
      },
      "execution_count": null,
      "outputs": [
        {
          "output_type": "execute_result",
          "data": {
            "text/plain": [
              "('Malcolm', 'Reynolds')"
            ]
          },
          "metadata": {},
          "execution_count": 14
        }
      ]
    },
    {
      "cell_type": "code",
      "source": [
        "m[1], m[2]"
      ],
      "metadata": {
        "colab": {
          "base_uri": "https://localhost:8080/"
        },
        "id": "D05IBTevIllj",
        "outputId": "da1f6252-dce1-429a-a799-647077fcef40"
      },
      "execution_count": null,
      "outputs": [
        {
          "output_type": "execute_result",
          "data": {
            "text/plain": [
              "('Malcolm', 'Reynolds')"
            ]
          },
          "metadata": {},
          "execution_count": 16
        }
      ]
    },
    {
      "cell_type": "code",
      "source": [
        "m = re.match(r\"010-(?P<앞자리>[0-9]{4})-(?P<뒷자리>[0-9]{4})\", \"010-1000-2000\")\n",
        "m.group('앞자리'), m.group('뒷자리')"
      ],
      "metadata": {
        "colab": {
          "base_uri": "https://localhost:8080/"
        },
        "id": "C6MRbpq7JFxC",
        "outputId": "ae471fb8-796b-459f-b718-4932582134a7"
      },
      "execution_count": null,
      "outputs": [
        {
          "output_type": "execute_result",
          "data": {
            "text/plain": [
              "('1000', '2000')"
            ]
          },
          "metadata": {},
          "execution_count": 17
        }
      ]
    },
    {
      "cell_type": "code",
      "source": [
        "# 실무에서 match가 사용되는 패턴 (공식문서)\n",
        "valid = re.compile(r\"^[a2-9tjqk]{5}$\")\n",
        "\n",
        "def displaymatch(match):\n",
        "    if match is None:\n",
        "        return None\n",
        "    return '<Match: %r, groups=%r>' % (match.group(), match.groups())\n",
        "\n",
        "displaymatch(valid.match(\"akt5q\"))"
      ],
      "metadata": {
        "colab": {
          "base_uri": "https://localhost:8080/",
          "height": 35
        },
        "id": "-MbqhvJOJJ2D",
        "outputId": "43ef6002-06fb-4ae0-f1d0-0b3e0c44a669"
      },
      "execution_count": null,
      "outputs": [
        {
          "output_type": "execute_result",
          "data": {
            "text/plain": [
              "\"<Match: 'akt5q', groups=()>\""
            ],
            "application/vnd.google.colaboratory.intrinsic+json": {
              "type": "string"
            }
          },
          "metadata": {},
          "execution_count": 18
        }
      ]
    },
    {
      "cell_type": "markdown",
      "source": [
        "## sub"
      ],
      "metadata": {
        "id": "1156slF_JtpT"
      }
    },
    {
      "cell_type": "markdown",
      "source": [
        "* str의 replace 메서드와 같은 기능\n",
        "* 정규표현식을 사용할 수 있는 코드"
      ],
      "metadata": {
        "id": "5u5EkfRk4jHo"
      }
    },
    {
      "cell_type": "code",
      "source": [
        "# 문제 : https://school.programmers.co.kr/learn/courses/30/lessons/120849"
      ],
      "metadata": {
        "id": "Kfh0GnijJjoq"
      },
      "execution_count": null,
      "outputs": []
    },
    {
      "cell_type": "code",
      "source": [
        "def solution(my_string):\n",
        "    return my_string.replace('a', '').replace('e', '').replace('i', '').replace('o', '').replace('u', '')\n"
      ],
      "metadata": {
        "id": "DlaKLBcBJyf7"
      },
      "execution_count": null,
      "outputs": []
    },
    {
      "cell_type": "code",
      "source": [
        "def solution(my_string):\n",
        "    string = 'aeiou'\n",
        "    for i in string:\n",
        "        my_string = my_string.replace(i, '')\n",
        "    return my_string"
      ],
      "metadata": {
        "id": "KbqJFxYpKcdi"
      },
      "execution_count": null,
      "outputs": []
    },
    {
      "cell_type": "code",
      "source": [
        "import re\n",
        "\n",
        "def solution(my_string):\n",
        "    return re.sub(r\"[aeiou]\", \"\", my_string)"
      ],
      "metadata": {
        "id": "jFx5pDn0KfOi"
      },
      "execution_count": null,
      "outputs": []
    },
    {
      "cell_type": "code",
      "source": [
        "import re\n",
        "solution = lambda my_string: re.sub(r\"[aeiou]\", \"\", my_string)"
      ],
      "metadata": {
        "id": "Jv0Ur6UVLDSq"
      },
      "execution_count": null,
      "outputs": []
    },
    {
      "cell_type": "code",
      "source": [
        "# 문제 : https://school.programmers.co.kr/learn/courses/30/lessons/120826"
      ],
      "metadata": {
        "id": "vq_S7UFf48DH"
      },
      "execution_count": null,
      "outputs": []
    },
    {
      "cell_type": "code",
      "source": [
        "def solution(my_string, letter):\n",
        "    for i in letter:\n",
        "        my_string = my_string.replace(i, '')\n",
        "    return my_string"
      ],
      "metadata": {
        "id": "M2fwrvoM4_Jw"
      },
      "execution_count": null,
      "outputs": []
    },
    {
      "cell_type": "code",
      "source": [
        "import re\n",
        "\n",
        "def solution(my_string, letter):\n",
        "    return re.sub(letter, \"\", my_string)"
      ],
      "metadata": {
        "id": "L1B6Dmif5KQn"
      },
      "execution_count": null,
      "outputs": []
    },
    {
      "cell_type": "code",
      "source": [
        "import re\n",
        "solution = lambda my_string, letter: re.sub(letter, \"\", my_string)"
      ],
      "metadata": {
        "id": "FJ5q0dUZ5KJP"
      },
      "execution_count": null,
      "outputs": []
    },
    {
      "cell_type": "code",
      "source": [
        "import re\n",
        "\n",
        "text = '''010-9091-5491\n",
        "010-5043-2901\n",
        "010-5050-40409\n",
        "010 2913 3132\n",
        "01019133829\n",
        "064-721-3213\n",
        "010.1913.3829'''\n",
        "\n",
        "p = re.compile(r'([0-9]{3}[-. ]?[0-9]{3,}[-. ]?[0-9]{4,})')\n",
        "p.findall(text)"
      ],
      "metadata": {
        "id": "dZ0O5-x2UBoo"
      },
      "execution_count": null,
      "outputs": []
    },
    {
      "cell_type": "code",
      "source": [
        "# 문제 : https://school.programmers.co.kr/learn/courses/30/lessons/120851"
      ],
      "metadata": {
        "id": "mbvQA4_45zlm"
      },
      "execution_count": null,
      "outputs": []
    },
    {
      "cell_type": "code",
      "source": [
        "def solution(my_string):\n",
        "    s = 0\n",
        "    for i in my_string:\n",
        "        if i.isdigit():\n",
        "            s+= int(i)\n",
        "    return s"
      ],
      "metadata": {
        "colab": {
          "base_uri": "https://localhost:8080/"
        },
        "id": "7u8cMXT553M3",
        "outputId": "72886145-6abe-4529-f352-dfe8aba9528d"
      },
      "execution_count": null,
      "outputs": [
        {
          "output_type": "execute_result",
          "data": {
            "text/plain": [
              "16"
            ]
          },
          "metadata": {},
          "execution_count": 1
        }
      ]
    },
    {
      "cell_type": "code",
      "source": [
        "def solution(my_string):\n",
        "    return sum([int(i) for i in my_string if i.isdigit()])"
      ],
      "metadata": {
        "id": "p44yalRW6-A_"
      },
      "execution_count": null,
      "outputs": []
    },
    {
      "cell_type": "code",
      "source": [
        "def solution(my_string):\n",
        "    return sum(map(int, filter(lambda x:x.isdigit(), my_string)))"
      ],
      "metadata": {
        "id": "rn8AGL-Z7aXI"
      },
      "execution_count": null,
      "outputs": []
    },
    {
      "cell_type": "code",
      "source": [
        "import re\n",
        "\n",
        "my_string = 'aAb1B2cC34oOp'\n",
        "re.sub('[a-zA-Z]', '', my_string)"
      ],
      "metadata": {
        "colab": {
          "base_uri": "https://localhost:8080/",
          "height": 35
        },
        "id": "dxm5BImh7_t-",
        "outputId": "42bd46b2-7fc0-4938-ebbf-7c3b2d016c74"
      },
      "execution_count": null,
      "outputs": [
        {
          "output_type": "execute_result",
          "data": {
            "text/plain": [
              "'1234'"
            ],
            "application/vnd.google.colaboratory.intrinsic+json": {
              "type": "string"
            }
          },
          "metadata": {},
          "execution_count": 3
        }
      ]
    },
    {
      "cell_type": "code",
      "source": [
        "import re\n",
        "\n",
        "my_string = 'aAb1B2cC34oOp'\n",
        "re.sub('[^1-9]', '', my_string)"
      ],
      "metadata": {
        "colab": {
          "base_uri": "https://localhost:8080/",
          "height": 35
        },
        "id": "_kEeZGxJ8aql",
        "outputId": "ac44f233-fd32-4c57-fea0-b2719bf3784c"
      },
      "execution_count": null,
      "outputs": [
        {
          "output_type": "execute_result",
          "data": {
            "text/plain": [
              "'1234'"
            ],
            "application/vnd.google.colaboratory.intrinsic+json": {
              "type": "string"
            }
          },
          "metadata": {},
          "execution_count": 4
        }
      ]
    },
    {
      "cell_type": "code",
      "source": [
        "import re\n",
        "\n",
        "def solution(my_string):\n",
        "    return sum([int(i) for i in re.sub('[a-zA-Z]', '', my_string)])"
      ],
      "metadata": {
        "id": "ZbmXpDJ19Kau"
      },
      "execution_count": null,
      "outputs": []
    },
    {
      "cell_type": "code",
      "source": [
        "import re\n",
        "\n",
        "def solution(my_string):\n",
        "    return sum(int(i) for i in re.sub('[a-zA-Z]', '', my_string))"
      ],
      "metadata": {
        "id": "1Nw0brU195FA"
      },
      "execution_count": null,
      "outputs": []
    },
    {
      "cell_type": "markdown",
      "source": [
        "### sub에 실무 응용(중고급 강좌)"
      ],
      "metadata": {
        "id": "CYq2y6xS-IEv"
      }
    },
    {
      "cell_type": "code",
      "source": [
        "import re\n",
        "\n",
        "re.sub(r'([0-9]{3})-([0-9]{4})-([0-9]{4})',\n",
        "       r'\\1__\\2__\\3',\n",
        "       '010-5000-3000')"
      ],
      "metadata": {
        "colab": {
          "base_uri": "https://localhost:8080/",
          "height": 35
        },
        "id": "NSSGCRwZ-L6u",
        "outputId": "cb197a9a-bce0-4e65-fb73-4e2dc626e0ef"
      },
      "execution_count": null,
      "outputs": [
        {
          "output_type": "execute_result",
          "data": {
            "text/plain": [
              "'010__5000__3000'"
            ],
            "application/vnd.google.colaboratory.intrinsic+json": {
              "type": "string"
            }
          },
          "metadata": {},
          "execution_count": 5
        }
      ]
    },
    {
      "cell_type": "code",
      "source": [
        "import re\n",
        "\n",
        "re.sub(r'([0-9]{3})-([0-9]{4})-([0-9]{4})',\n",
        "       r'\\1---\\2---\\3',\n",
        "       '010-5000-3000')"
      ],
      "metadata": {
        "colab": {
          "base_uri": "https://localhost:8080/",
          "height": 35
        },
        "id": "nUJHlZaQ_4Ac",
        "outputId": "28667b5a-9c92-4219-ffaf-800c201fcada"
      },
      "execution_count": null,
      "outputs": [
        {
          "output_type": "execute_result",
          "data": {
            "text/plain": [
              "'010---5000---3000'"
            ],
            "application/vnd.google.colaboratory.intrinsic+json": {
              "type": "string"
            }
          },
          "metadata": {},
          "execution_count": 7
        }
      ]
    },
    {
      "cell_type": "code",
      "source": [
        "# 문제\n",
        "# 입력 : '2023/05/16'\n",
        "# 출력1 : '05/16/2023' 미국식 날짜 표기\n",
        "# 출력2 : '16/05/2023' 영국식 날짜 표기\n",
        "\n",
        "import re\n",
        "\n",
        "print(re.sub(r'([0-9]{4})/([0-9]{2})/([0-9]{2})',\n",
        "       r'\\2/\\3/\\1',\n",
        "       '2023/05/16'))\n",
        "print(re.sub(r'([0-9]{4})/([0-9]{2})/([0-9]{2})',\n",
        "       r'\\3/\\2/\\1',\n",
        "       '2023/05/16'))"
      ],
      "metadata": {
        "colab": {
          "base_uri": "https://localhost:8080/"
        },
        "id": "SNYXAwf-ACw1",
        "outputId": "3126e929-2ee4-41c4-a7e6-1ed7cfed18b5"
      },
      "execution_count": null,
      "outputs": [
        {
          "output_type": "stream",
          "name": "stdout",
          "text": [
            "05/16/2023\n",
            "16/05/2023\n"
          ]
        }
      ]
    },
    {
      "cell_type": "code",
      "source": [
        "# 변수로 사용하는 것\n",
        "# 작동하지 않습니다\n",
        "\n",
        "import re\n",
        "\n",
        "re.sub(r'(?P<year>[0-9]{4})/(?P<month>[0-9]{2})/(?P<day>[0-9]{2})',\n",
        "       r'\\<year>/\\<month>/\\<day>',\n",
        "       '2023/05/16')"
      ],
      "metadata": {
        "colab": {
          "base_uri": "https://localhost:8080/",
          "height": 35
        },
        "id": "euDdl2kQBTAt",
        "outputId": "67296925-2cdb-4950-8e8b-3e3436b5aa76"
      },
      "execution_count": null,
      "outputs": [
        {
          "output_type": "execute_result",
          "data": {
            "text/plain": [
              "'\\\\<year>/\\\\<month>/\\\\<day>'"
            ],
            "application/vnd.google.colaboratory.intrinsic+json": {
              "type": "string"
            }
          },
          "metadata": {},
          "execution_count": 11
        }
      ]
    },
    {
      "cell_type": "code",
      "source": [
        "# 변수로 사용하는 것\n",
        "\n",
        "import re\n",
        "\n",
        "re.sub(r'(?P<year>[0-9]{4})/(?P<month>[0-9]{2})/(?P<day>[0-9]{2})',\n",
        "       r'\\g<year>/\\g<month>/\\g<day>',\n",
        "       '2023/05/16')"
      ],
      "metadata": {
        "colab": {
          "base_uri": "https://localhost:8080/",
          "height": 35
        },
        "id": "mA8wVJgdCDJd",
        "outputId": "0619c148-d3e0-4917-e5d4-e414603ef18d"
      },
      "execution_count": null,
      "outputs": [
        {
          "output_type": "execute_result",
          "data": {
            "text/plain": [
              "'2023/05/16'"
            ],
            "application/vnd.google.colaboratory.intrinsic+json": {
              "type": "string"
            }
          },
          "metadata": {},
          "execution_count": 12
        }
      ]
    },
    {
      "cell_type": "code",
      "source": [
        "# md -> html 파일로\n",
        "# '# hello world' => '<h1>hello world</h1>\n",
        "\n",
        "import re\n",
        "\n",
        "text = '''# hello\n",
        "## hello1.1\n",
        "hello world\n",
        "# hello2\n",
        "## hello2.1\n",
        "hello world\n",
        "# hello3\n",
        "## hello3.1\n",
        "hello world\n",
        "'''\n",
        "\n",
        "re.sub(r'# (.*)', r'<h1>\\1</h1>', text)"
      ],
      "metadata": {
        "colab": {
          "base_uri": "https://localhost:8080/",
          "height": 54
        },
        "id": "esAAneosEvsF",
        "outputId": "dc27d89b-a9e2-4837-faf6-2e2d9ced32bb"
      },
      "execution_count": null,
      "outputs": [
        {
          "output_type": "execute_result",
          "data": {
            "text/plain": [
              "'<h1>hello</h1>\\n## hello1.1\\nhello world\\n# hello2\\n## hello2.1\\nhello world\\n# hello3\\n## hello3.1\\nhello world\\n'"
            ],
            "application/vnd.google.colaboratory.intrinsic+json": {
              "type": "string"
            }
          },
          "metadata": {},
          "execution_count": 16
        }
      ]
    },
    {
      "cell_type": "code",
      "source": [
        "import re\n",
        "\n",
        "text = '''# hello\n",
        "## hello1.1\n",
        "hello world\n",
        "# hello2\n",
        "## hello2.1\n",
        "hello world\n",
        "# hello3\n",
        "## hello3.1\n",
        "hello world\n",
        "'''\n",
        "\n",
        "text = re.sub(r'## (.*)', r'<h2>\\1</h2>', text)\n",
        "text = re.sub(r'# (.*)', r'<h1>\\1</h1>', text)\n",
        "print(text)"
      ],
      "metadata": {
        "colab": {
          "base_uri": "https://localhost:8080/"
        },
        "id": "W8TAU4xSG9YU",
        "outputId": "e1de4392-7423-4e6b-de6a-67dd7244555e"
      },
      "execution_count": null,
      "outputs": [
        {
          "output_type": "stream",
          "name": "stdout",
          "text": [
            "<h1>hello</h1>\n",
            "<h2>hello1.1</h2>\n",
            "hello world\n",
            "<h1>hello2</h1>\n",
            "<h2>hello2.1</h2>\n",
            "hello world\n",
            "<h1>hello3</h1>\n",
            "<h2>hello3.1</h2>\n",
            "hello world\n",
            "\n"
          ]
        }
      ]
    },
    {
      "cell_type": "code",
      "source": [
        "import re\n",
        "\n",
        "text='''# hello1\n",
        "## hello1.1\n",
        "hello world\n",
        "# hello2\n",
        "## hello2.1\n",
        "hello world\n",
        "# hello3\n",
        "## hello3.1\n",
        "hello world\n",
        "'''\n",
        "\n",
        "# p = re.compile('^# (.*)', re.MULTILINE)\n",
        "# text = p.sub(r'<h1>\\1</h1>', text)\n",
        "text = re.sub(r'^# (.*)', r'<h1>\\1</h1>', text, flags=re.M)\n",
        "text = re.sub(r'^## (.*)', r'<h2>\\1</h2>', text, flags=re.M)\n",
        "print(text)"
      ],
      "metadata": {
        "colab": {
          "base_uri": "https://localhost:8080/"
        },
        "id": "ptX7jT04HXO0",
        "outputId": "5b377815-df2f-4a94-c8d5-ede8958d48a0"
      },
      "execution_count": null,
      "outputs": [
        {
          "output_type": "stream",
          "name": "stdout",
          "text": [
            "<h2>hello</h2>\n",
            "<h1>hello1.1</h1>\n",
            "hello world\n",
            "<h2>hello2</h2>\n",
            "<h1>hello2.1</h1>\n",
            "hello world\n",
            "<h2>hello3</h2>\n",
            "<h1>hello3.1</h1>\n",
            "hello world\n",
            "\n"
          ]
        }
      ]
    },
    {
      "cell_type": "code",
      "source": [
        "import re\n",
        "\n",
        "text = '''# This is a h1\n",
        "## This is a h2\n",
        "### This is a h3\n",
        "#### This is a h4\n",
        "##### This is a h5\n",
        "###### This is a h6\n",
        "\n",
        "* This is a bulleted list\n",
        "  * This is a nested bulleted list\n",
        "\n",
        "**This is bold text**\n",
        "\n",
        "_This is italic text_\n",
        "\n",
        "~~This text is strikethrough~~\n",
        "'''\n",
        "\n",
        "def markdown_to_html(markdown):\n",
        "    html = re.sub(r'### (.*)', r'<h3>\\1</h3>', markdown)\n",
        "    html = re.sub(r'## (.*)', r'<h2>\\1</h2>', html)\n",
        "    html = re.sub(r'# (.*)', r'<h1>\\1</h1>', html)\n",
        "    html = re.sub(r'`(.*)`', r'<pre><code>\\1</code></pre>', html)\n",
        "    html = re.sub(r'\\*\\*(.*)\\*\\*', r'<strong>\\1</strong>', html)\n",
        "    html = re.sub(r'_(.*)_', r'<em>\\1</em>', html)\n",
        "    html = re.sub(r'~~(.*)~~', r'<del>\\1</del>', html)\n",
        "    html = re.sub(r'^(>+) (.*)', r'<blockquote>\\1\\2</blockquote>', html)\n",
        "    # html = re.sub(r'^\\* (.*)', r'<ul><li>\\1</li></ul>', html, flags=re.M+re.S)\n",
        "    return html\n",
        "\n",
        "print(markdown_to_html(text))"
      ],
      "metadata": {
        "colab": {
          "base_uri": "https://localhost:8080/"
        },
        "id": "wnJQRcuvIWF6",
        "outputId": "b0d8c1a6-2982-4b3c-872b-cc37ded2b4df"
      },
      "execution_count": null,
      "outputs": [
        {
          "output_type": "stream",
          "name": "stdout",
          "text": [
            "<h1>This is a h1</h1>\n",
            "<h2>This is a h2</h2>\n",
            "<h3>This is a h3</h3>\n",
            "#<h3>This is a h4</h3>\n",
            "##<h3>This is a h5</h3>\n",
            "###<h3>This is a h6</h3>\n",
            "\n",
            "* This is a bulleted list\n",
            "  * This is a nested bulleted list\n",
            "\n",
            "<strong>This is bold text</strong>\n",
            "\n",
            "<em>This is italic text</em>\n",
            "\n",
            "<del>This text is strikethrough</del>\n",
            "\n"
          ]
        }
      ]
    },
    {
      "cell_type": "markdown",
      "source": [
        "## search"
      ],
      "metadata": {
        "id": "Mo40d23bKpJa"
      }
    },
    {
      "cell_type": "code",
      "source": [
        "p = re.compile('[yth]')\n",
        "m = p.search('python')\n",
        "print(m)"
      ],
      "metadata": {
        "colab": {
          "base_uri": "https://localhost:8080/"
        },
        "id": "abePJIeDKo7z",
        "outputId": "91b5c51b-82d4-46b6-e0ff-1fcb8cf6977a"
      },
      "execution_count": null,
      "outputs": [
        {
          "output_type": "stream",
          "name": "stdout",
          "text": [
            "<re.Match object; span=(1, 2), match='y'>\n"
          ]
        }
      ]
    },
    {
      "cell_type": "markdown",
      "source": [
        "## findall"
      ],
      "metadata": {
        "id": "Km6wrBIdLGka"
      }
    },
    {
      "cell_type": "code",
      "source": [
        "p = re.compile('[a-z]+')\n",
        "result = p.findall('Python')\n",
        "print(result)"
      ],
      "metadata": {
        "colab": {
          "base_uri": "https://localhost:8080/"
        },
        "id": "0Bll5Vj8LIDC",
        "outputId": "6e0bdb79-5dbb-46d0-8069-b20b2a35cc13"
      },
      "execution_count": null,
      "outputs": [
        {
          "output_type": "stream",
          "name": "stdout",
          "text": [
            "['ython']\n"
          ]
        }
      ]
    },
    {
      "cell_type": "code",
      "source": [
        "p = re.compile('[a-z]+')\n",
        "result = p.findall('Life is Short, You Need Python!')\n",
        "print(result)"
      ],
      "metadata": {
        "colab": {
          "base_uri": "https://localhost:8080/"
        },
        "id": "SSDZZ_NgLY7C",
        "outputId": "592330fa-88c6-4028-ff54-6f3779708b11"
      },
      "execution_count": null,
      "outputs": [
        {
          "output_type": "stream",
          "name": "stdout",
          "text": [
            "['ife', 'is', 'hort', 'ou', 'eed', 'ython']\n"
          ]
        }
      ]
    },
    {
      "cell_type": "code",
      "source": [
        "p = re.compile('[a-z]+')\n",
        "result = p.findall('LifeisShort,YouNeed P y t h o n !')\n",
        "print(result)"
      ],
      "metadata": {
        "colab": {
          "base_uri": "https://localhost:8080/"
        },
        "id": "0r1zHs5ILyt7",
        "outputId": "2eea1d94-c29c-49cb-c35d-02fcc41a4063"
      },
      "execution_count": null,
      "outputs": [
        {
          "output_type": "stream",
          "name": "stdout",
          "text": [
            "['ifeis', 'hort', 'ou', 'eed', 'y', 't', 'h', 'o', 'n']\n"
          ]
        }
      ]
    },
    {
      "cell_type": "code",
      "source": [
        "p = re.compile('[0-9]+')\n",
        "result = p.findall('010-5000-1000')\n",
        "print(result)"
      ],
      "metadata": {
        "colab": {
          "base_uri": "https://localhost:8080/"
        },
        "id": "jqPZqkLXLnFR",
        "outputId": "7c085a91-c7d4-4a3e-f24f-c080b823c8ba"
      },
      "execution_count": null,
      "outputs": [
        {
          "output_type": "stream",
          "name": "stdout",
          "text": [
            "['010', '5000', '1000']\n"
          ]
        }
      ]
    },
    {
      "cell_type": "code",
      "source": [
        "'010-5000-1000'.split('-')"
      ],
      "metadata": {
        "colab": {
          "base_uri": "https://localhost:8080/"
        },
        "id": "sFzhlJQIMH0h",
        "outputId": "79163a42-8938-4b5d-8269-07f12fff53bd"
      },
      "execution_count": null,
      "outputs": [
        {
          "output_type": "execute_result",
          "data": {
            "text/plain": [
              "['010', '5000', '1000']"
            ]
          },
          "metadata": {},
          "execution_count": 29
        }
      ]
    },
    {
      "cell_type": "code",
      "source": [
        "# 1\n",
        "p = re.compile(r'([0-9]|10)([SDT])([\\*\\#]?)')\n",
        "p.findall('1S2D*3T')\n",
        "\n",
        "# 2\n",
        "# re.findall(r'([0-9]|10)([SDT])([\\*\\#]?)', '1S2D*3T')"
      ],
      "metadata": {
        "colab": {
          "base_uri": "https://localhost:8080/"
        },
        "id": "lfumuRYBMUhj",
        "outputId": "f52d933d-9deb-4b59-926f-f2230b218e93"
      },
      "execution_count": null,
      "outputs": [
        {
          "output_type": "execute_result",
          "data": {
            "text/plain": [
              "[('1', 'S', ''), ('2', 'D', '*'), ('3', 'T', '')]"
            ]
          },
          "metadata": {},
          "execution_count": 30
        }
      ]
    },
    {
      "cell_type": "code",
      "source": [
        "# 문제 : https://school.programmers.co.kr/learn/courses/30/lessons/120891"
      ],
      "metadata": {
        "id": "PjLJkYa9NXsh"
      },
      "execution_count": null,
      "outputs": []
    },
    {
      "cell_type": "code",
      "source": [
        "p = re.compile('[369]')\n",
        "result = p.findall('29423')\n",
        "print(result)"
      ],
      "metadata": {
        "colab": {
          "base_uri": "https://localhost:8080/"
        },
        "id": "uPIqycV5Nie5",
        "outputId": "e0bda71b-fb67-420e-bde1-39e52ba4e986"
      },
      "execution_count": null,
      "outputs": [
        {
          "output_type": "stream",
          "name": "stdout",
          "text": [
            "['9', '3']\n"
          ]
        }
      ]
    },
    {
      "cell_type": "code",
      "source": [
        "import re\n",
        "\n",
        "def solution(order):\n",
        "    p = re.compile('[369]')\n",
        "    return len(p.findall(str(order)))"
      ],
      "metadata": {
        "id": "Y9EKT5I-OH1h"
      },
      "execution_count": null,
      "outputs": []
    },
    {
      "cell_type": "code",
      "source": [
        "def solution(order):\n",
        "    count = 0\n",
        "    for i in str(order):\n",
        "        if i == '3' or i == '6' or i == '9':\n",
        "            count += 1\n",
        "    return count"
      ],
      "metadata": {
        "id": "0rlD5ge5Ocby"
      },
      "execution_count": null,
      "outputs": []
    },
    {
      "cell_type": "code",
      "source": [
        "import re\n",
        "\n",
        "def solution(order):\n",
        "    p = re.compile('[369]')\n",
        "    return len(p.findall(str(order)))"
      ],
      "metadata": {
        "id": "sJApY8l3PMTy"
      },
      "execution_count": null,
      "outputs": []
    },
    {
      "cell_type": "code",
      "source": [
        "# 문제 : https://school.programmers.co.kr/learn/courses/30/lessons/120913"
      ],
      "metadata": {
        "id": "N3iPWGsuPeIh"
      },
      "execution_count": null,
      "outputs": []
    },
    {
      "cell_type": "code",
      "source": [
        "n = 3\n",
        "s = 'abc1Addfggg4556b'\n",
        "\n",
        "for i in range(0, len(s), n):\n",
        "    print(s[i:i+n]) # str에 slicing 경우 out of range error가 발생하지 않습니다."
      ],
      "metadata": {
        "colab": {
          "base_uri": "https://localhost:8080/"
        },
        "id": "uhxhBptNPf9o",
        "outputId": "4b8ac487-c694-496b-bbd9-78e8cde49322"
      },
      "execution_count": null,
      "outputs": [
        {
          "output_type": "stream",
          "name": "stdout",
          "text": [
            "abc\n",
            "1Ad\n",
            "dfg\n",
            "gg4\n",
            "556\n",
            "b\n"
          ]
        }
      ]
    },
    {
      "cell_type": "code",
      "source": [
        "def solution(my_str, n):\n",
        "    result = []\n",
        "    for i in range(0, len(my_str), n):\n",
        "        result.append(my_str[i:i+n])\n",
        "    return result"
      ],
      "metadata": {
        "id": "Iy8FaIBET454"
      },
      "execution_count": null,
      "outputs": []
    },
    {
      "cell_type": "code",
      "source": [
        "import re\n",
        "\n",
        "re.findall('.{4}', 'abc1Addfggg4556b')"
      ],
      "metadata": {
        "colab": {
          "base_uri": "https://localhost:8080/"
        },
        "id": "r6-AgCHlUJrn",
        "outputId": "327efb98-7682-4ce1-f2b4-b02d32a9b869"
      },
      "execution_count": null,
      "outputs": [
        {
          "output_type": "execute_result",
          "data": {
            "text/plain": [
              "['abc1', 'Addf', 'ggg4', '556b']"
            ]
          },
          "metadata": {},
          "execution_count": 34
        }
      ]
    },
    {
      "cell_type": "code",
      "source": [
        "import re\n",
        "\n",
        "re.findall('.{1,4}', 'abc1Addfggg4556bte')"
      ],
      "metadata": {
        "colab": {
          "base_uri": "https://localhost:8080/"
        },
        "id": "c3kDijOoUgZw",
        "outputId": "c0d4c614-3257-47e0-b90c-36c6fa4e73c7"
      },
      "execution_count": null,
      "outputs": [
        {
          "output_type": "execute_result",
          "data": {
            "text/plain": [
              "['abc1', 'Addf', 'ggg4', '556b', 'te']"
            ]
          },
          "metadata": {},
          "execution_count": 35
        }
      ]
    },
    {
      "cell_type": "code",
      "source": [
        "# python에서 {를 넣기 위해선 {{를 사용하여야 합니다\n",
        "# f-string  용법에서 중괄호를 문자열 그대로 표현하기 위해\n",
        "# 이스케이프 문자를 사용하지 않습니다.\n",
        "# 중괄호 2개를 사용합니다\n",
        "import re\n",
        "\n",
        "def solution(my_str, n):\n",
        "    return re.findall(f'.{{1,{n}}}', my_str)"
      ],
      "metadata": {
        "id": "Z4sPJYiOVx5_"
      },
      "execution_count": null,
      "outputs": []
    },
    {
      "cell_type": "code",
      "source": [
        "# 문제 : https://school.programmers.co.kr/learn/courses/30/lessons/120894"
      ],
      "metadata": {
        "id": "N7O1GkViWLZB"
      },
      "execution_count": null,
      "outputs": []
    },
    {
      "cell_type": "code",
      "source": [
        "import re\n",
        "\n",
        "re.findall('(one|two|three|four|five|six|seven|eight|nine|zero)',\n",
        "           'onetwothreefourfivesixseveneightnine')"
      ],
      "metadata": {
        "colab": {
          "base_uri": "https://localhost:8080/"
        },
        "id": "v7jg3bDoWPlW",
        "outputId": "3f4a63e3-b766-449f-bfc5-6bb5e292dd60"
      },
      "execution_count": null,
      "outputs": [
        {
          "output_type": "execute_result",
          "data": {
            "text/plain": [
              "['one', 'two', 'three', 'four', 'five', 'six', 'seven', 'eight', 'nine']"
            ]
          },
          "metadata": {},
          "execution_count": 36
        }
      ]
    },
    {
      "cell_type": "code",
      "source": [
        "d = {\n",
        "    'zero': 0,\n",
        "    'one': 1,\n",
        "    'two': 2,\n",
        "    'three': 3,\n",
        "    'four': 4,\n",
        "    'five': 5,\n",
        "    'six': 6,\n",
        "    'seven': 7,\n",
        "    'eight': 8,\n",
        "    'nine': 9\n",
        "}\n",
        "l = ['one', 'two', 'three', 'four', 'five', 'six', 'seven', 'eight', 'nine']\n",
        "\n",
        "s = ''\n",
        "for i in l:\n",
        "    s += str(d[i])\n",
        "s"
      ],
      "metadata": {
        "colab": {
          "base_uri": "https://localhost:8080/",
          "height": 35
        },
        "id": "soZGB8GOXDzo",
        "outputId": "860a171f-7dec-4b5c-d702-dc5c5834ae04"
      },
      "execution_count": null,
      "outputs": [
        {
          "output_type": "execute_result",
          "data": {
            "text/plain": [
              "'123456789'"
            ],
            "application/vnd.google.colaboratory.intrinsic+json": {
              "type": "string"
            }
          },
          "metadata": {},
          "execution_count": 37
        }
      ]
    },
    {
      "cell_type": "code",
      "source": [
        "''.join([str(d[i]) for i in l])"
      ],
      "metadata": {
        "colab": {
          "base_uri": "https://localhost:8080/",
          "height": 35
        },
        "id": "ko5OLLiZXz9_",
        "outputId": "461e1e7e-4c67-4b2a-8cd1-6655d50fcbe2"
      },
      "execution_count": null,
      "outputs": [
        {
          "output_type": "execute_result",
          "data": {
            "text/plain": [
              "'123456789'"
            ],
            "application/vnd.google.colaboratory.intrinsic+json": {
              "type": "string"
            }
          },
          "metadata": {},
          "execution_count": 40
        }
      ]
    },
    {
      "cell_type": "code",
      "source": [
        "d = {\n",
        "    'zero': 0,\n",
        "    'one': 1,\n",
        "    'two': 2,\n",
        "    'three': 3,\n",
        "    'four': 4,\n",
        "    'five': 5,\n",
        "    'six': 6,\n",
        "    'seven': 7,\n",
        "    'eight': 8,\n",
        "    'nine': 9\n",
        "}\n",
        "l = ['one', 'two', 'three', 'four', 'five', 'six', 'seven', 'eight', 'nine']\n",
        "list(map(lambda x:str(d[x]), l))\n",
        "''.join(map(lambda x:str(d[x]), l)) # join 뒤에도 이터러블 객체가 옵니다"
      ],
      "metadata": {
        "colab": {
          "base_uri": "https://localhost:8080/",
          "height": 35
        },
        "id": "adt8-8OcX4Q_",
        "outputId": "f461ada2-2b98-4352-cbca-c22be3ae8b66"
      },
      "execution_count": null,
      "outputs": [
        {
          "output_type": "execute_result",
          "data": {
            "text/plain": [
              "'123456789'"
            ],
            "application/vnd.google.colaboratory.intrinsic+json": {
              "type": "string"
            }
          },
          "metadata": {},
          "execution_count": 39
        }
      ]
    },
    {
      "cell_type": "markdown",
      "source": [
        "## finditer"
      ],
      "metadata": {
        "id": "FeicFEXqZBpe"
      }
    },
    {
      "cell_type": "markdown",
      "source": [
        "* 정규식과 매치되는 모든 문자열(substring)을 반복 가능한 객체로 리턴한다."
      ],
      "metadata": {
        "id": "Oiu4GGHKZD9X"
      }
    },
    {
      "cell_type": "code",
      "source": [
        "p = re.compile('.{4}')\n",
        "result = p.finditer('helloworldhelloworldhelloworld')\n",
        "result\n",
        "for i in result:\n",
        "    print(i)\n",
        "    print(i.group())\n",
        "    print(i.span())"
      ],
      "metadata": {
        "colab": {
          "base_uri": "https://localhost:8080/"
        },
        "id": "vfwjgAp8ZJmt",
        "outputId": "4466ba71-8553-44b9-ff7e-8dd7a1ca7ae2"
      },
      "execution_count": null,
      "outputs": [
        {
          "output_type": "stream",
          "name": "stdout",
          "text": [
            "<re.Match object; span=(0, 4), match='hell'>\n",
            "hell\n",
            "(0, 4)\n",
            "<re.Match object; span=(4, 8), match='owor'>\n",
            "owor\n",
            "(4, 8)\n",
            "<re.Match object; span=(8, 12), match='ldhe'>\n",
            "ldhe\n",
            "(8, 12)\n",
            "<re.Match object; span=(12, 16), match='llow'>\n",
            "llow\n",
            "(12, 16)\n",
            "<re.Match object; span=(16, 20), match='orld'>\n",
            "orld\n",
            "(16, 20)\n",
            "<re.Match object; span=(20, 24), match='hell'>\n",
            "hell\n",
            "(20, 24)\n",
            "<re.Match object; span=(24, 28), match='owor'>\n",
            "owor\n",
            "(24, 28)\n"
          ]
        }
      ]
    },
    {
      "cell_type": "markdown",
      "source": [
        "## split"
      ],
      "metadata": {
        "id": "aP146AQsY3Cu"
      }
    },
    {
      "cell_type": "markdown",
      "source": [
        "* 정규표현 패턴으로 문자열을 분할(str에 split과 같은 역할)"
      ],
      "metadata": {
        "id": "36WdK1BVY6Dt"
      }
    },
    {
      "cell_type": "code",
      "source": [
        "import re\n",
        "\n",
        "s = '010 5000!4000'\n",
        "re.split(r' ', s)"
      ],
      "metadata": {
        "colab": {
          "base_uri": "https://localhost:8080/"
        },
        "id": "JP4wULGtZ2EV",
        "outputId": "e384a031-8ea6-4eea-c5a2-b5e1e6e3246c"
      },
      "execution_count": null,
      "outputs": [
        {
          "output_type": "execute_result",
          "data": {
            "text/plain": [
              "['010', '5000!4000']"
            ]
          },
          "metadata": {},
          "execution_count": 51
        }
      ]
    },
    {
      "cell_type": "code",
      "source": [
        "import re\n",
        "\n",
        "s = '010 5000!4000'\n",
        "re.split(r'[ !]', s)"
      ],
      "metadata": {
        "colab": {
          "base_uri": "https://localhost:8080/"
        },
        "id": "rp5wmTiDaHNm",
        "outputId": "4d886aa2-c84c-43d3-cf66-24c316ecacdd"
      },
      "execution_count": null,
      "outputs": [
        {
          "output_type": "execute_result",
          "data": {
            "text/plain": [
              "['010', '5000', '4000']"
            ]
          },
          "metadata": {},
          "execution_count": 52
        }
      ]
    },
    {
      "cell_type": "code",
      "source": [
        "text = '''<!DOCTYPE html>\n",
        "<html lang=\"ko\">\n",
        "<head>\n",
        "    <title>hello title</title>\n",
        "</head>\n",
        "<body>\n",
        "    <h1>hello h1</h1>\n",
        "    <p>hello p</p>\n",
        "</body>\n",
        "</html>\n",
        "'''\n",
        "\n",
        "text.split('>')"
      ],
      "metadata": {
        "colab": {
          "base_uri": "https://localhost:8080/"
        },
        "id": "_wumCkmcaea2",
        "outputId": "bea431d1-aa24-4e16-9803-5e2122812c9b"
      },
      "execution_count": null,
      "outputs": [
        {
          "output_type": "execute_result",
          "data": {
            "text/plain": [
              "['<!DOCTYPE html',\n",
              " '\\n<html lang=\"ko\"',\n",
              " '\\n<head',\n",
              " '\\n    <title',\n",
              " 'hello title</title',\n",
              " '\\n</head',\n",
              " '\\n<body',\n",
              " '\\n    <h1',\n",
              " 'hello h1</h1',\n",
              " '\\n    <p',\n",
              " 'hello p</p',\n",
              " '\\n</body',\n",
              " '\\n</html',\n",
              " '\\n']"
            ]
          },
          "metadata": {},
          "execution_count": 53
        }
      ]
    },
    {
      "cell_type": "code",
      "source": [
        "import re\n",
        "\n",
        "text = '''<!DOCTYPE html>\n",
        "<html lang=\"ko\">\n",
        "<head>\n",
        "    <title>hello title</title>\n",
        "</head>\n",
        "<body>\n",
        "    <h1>hello h1</h1>\n",
        "    <p>hello p</p>\n",
        "</body>\n",
        "</html>\n",
        "'''\n",
        "\n",
        "\n",
        "result = re.split('<[^<>]*>', text) # beautifulsoup 원리 : 정규표현식으로 문자열 조각\n",
        "list(filter(lambda x:x !='\\n', map(lambda x:x.strip(), result)))"
      ],
      "metadata": {
        "colab": {
          "base_uri": "https://localhost:8080/"
        },
        "id": "fRzWyCqga9a-",
        "outputId": "be479299-4a11-4c4e-fce5-3491c74bd686"
      },
      "execution_count": null,
      "outputs": [
        {
          "output_type": "execute_result",
          "data": {
            "text/plain": [
              "['',\n",
              " '',\n",
              " '',\n",
              " '',\n",
              " 'hello title',\n",
              " '',\n",
              " '',\n",
              " '',\n",
              " 'hello h1',\n",
              " '',\n",
              " 'hello p',\n",
              " '',\n",
              " '',\n",
              " '']"
            ]
          },
          "metadata": {},
          "execution_count": 55
        }
      ]
    },
    {
      "cell_type": "markdown",
      "source": [
        "## 연습문제"
      ],
      "metadata": {
        "id": "eZgvBIPqQSz_"
      }
    },
    {
      "cell_type": "code",
      "source": [
        "# 문제 : https://pyalgo.co.kr/?page=2#"
      ],
      "metadata": {
        "id": "ocb6RQI6QUXg"
      },
      "execution_count": null,
      "outputs": []
    },
    {
      "cell_type": "code",
      "source": [
        "import re\n",
        "p = re.compile('[rev][1-9]|[rev]10') # 10이 아니고 1과 0\n",
        "p.findall('a10b9r1ce33uab8wc918v2cv11v9')"
      ],
      "metadata": {
        "colab": {
          "base_uri": "https://localhost:8080/"
        },
        "id": "9b3_qHS-QYnf",
        "outputId": "b45cf911-5a7d-4591-dfd6-ece71fbb8d74"
      },
      "execution_count": null,
      "outputs": [
        {
          "output_type": "execute_result",
          "data": {
            "text/plain": [
              "['r1', 'e3', 'v2', 'v1', 'v9']"
            ]
          },
          "metadata": {},
          "execution_count": 7
        }
      ]
    },
    {
      "cell_type": "code",
      "source": [
        "import re\n",
        "def solution(data):\n",
        "    p = re.compile('([rev])(10|[1-9])') # 10을 앞에 두어야 한다 \n",
        "    return p.findall(data)\n",
        "\n",
        "\n",
        "solution('a10b9r1ce33uab8wc918v2cv11v9')"
      ],
      "metadata": {
        "colab": {
          "base_uri": "https://localhost:8080/"
        },
        "id": "mS8NMeN6ULgX",
        "outputId": "47b9fcc1-9737-4acf-a4b0-1b65eb164ab5"
      },
      "execution_count": null,
      "outputs": [
        {
          "output_type": "execute_result",
          "data": {
            "text/plain": [
              "[('r', '1'), ('e', '3'), ('v', '2'), ('v', '1'), ('v', '9')]"
            ]
          },
          "metadata": {},
          "execution_count": 21
        }
      ]
    },
    {
      "cell_type": "code",
      "source": [
        "import re\n",
        "def solution(data):\n",
        "    p = re.compile('([rev])(10|[1-9])') # 10을 앞에 두어야 한다 \n",
        "    return sum([int(i[1]) for i in p.findall(data)])\n",
        "\n",
        "solution('a10b9r1ce33uab8wc918v2cv11v9')"
      ],
      "metadata": {
        "colab": {
          "base_uri": "https://localhost:8080/"
        },
        "id": "_xZgfYDLa1vU",
        "outputId": "e00011d0-2419-4c63-98c1-e952e27d85fc"
      },
      "execution_count": null,
      "outputs": [
        {
          "output_type": "execute_result",
          "data": {
            "text/plain": [
              "16"
            ]
          },
          "metadata": {},
          "execution_count": 23
        }
      ]
    },
    {
      "cell_type": "code",
      "source": [
        "import re\n",
        "def solution(data):\n",
        "    p = re.compile('([rev])(10|[1-9])') # 10을 앞에 두어야 한다 \n",
        "    date = sum([int(i[1]) for i in p.findall(data)])\n",
        "    a, b = str(date)\n",
        "    return f'{a}월 {b}일'\n",
        "\n",
        "solution('a10b9r1ce33uab8wc918v2cv11v9')"
      ],
      "metadata": {
        "colab": {
          "base_uri": "https://localhost:8080/",
          "height": 35
        },
        "id": "U51A1Mahcbfs",
        "outputId": "c989c831-d0cc-4feb-e13e-ad0525d0bd15"
      },
      "execution_count": null,
      "outputs": [
        {
          "output_type": "execute_result",
          "data": {
            "text/plain": [
              "'1월 6일'"
            ],
            "application/vnd.google.colaboratory.intrinsic+json": {
              "type": "string"
            }
          },
          "metadata": {},
          "execution_count": 28
        }
      ]
    },
    {
      "cell_type": "code",
      "source": [
        "ttt ='''\n",
        "# 이것은 제목입니다\n",
        "## 이것은 소제목입니다\n",
        "### 이것은 소소제목입니다\n",
        "\n",
        "이것은 **굵은글씨** 입니다.\n",
        "이것은 *기울어진 글씨* 입니다.\n",
        "\n",
        "이것은 `코드블록` 입니다.\n",
        "\n",
        "- 이것은 리스트입니다.\n",
        "- 이것은 또 다른 리스트입니다.\n",
        "\n",
        "1. 이것은 숫자 리스트입니다.\n",
        "2. 이것은 또 다른 숫자 리스트입니다.\n",
        "\n",
        "> 이것은 인용입니다.\n",
        "> 이것은 또 다른 인용입니다.\n",
        "'''"
      ],
      "metadata": {
        "id": "0sG2oAVntn-X"
      },
      "execution_count": null,
      "outputs": []
    },
    {
      "cell_type": "code",
      "source": [
        "import re\n",
        "\n",
        "def markdown_to_html(markdown):\n",
        "    html = re.sub('# (.*)', r'<h1>\\1</h1>', markdown)\n",
        "    html = re.sub('## (.*)', r'<h2>\\1</h2>', html)\n",
        "    html = re.sub('### (.*)', r'<h3>\\1</h3>', html)\n",
        "    html = re.sub('\\*\\*(.*)\\*\\*', r'<strong>\\1</strong>', html)\n",
        "    html = re.sub('\\*(.*)\\*', r'<i>\\1</i>', html)\n",
        "    return html\n",
        "\n",
        "markdown_to_html(ttt)"
      ],
      "metadata": {
        "colab": {
          "base_uri": "https://localhost:8080/",
          "height": 72
        },
        "id": "0qb3RiyntzGe",
        "outputId": "97161181-22ef-4b9f-b472-56400ae5c9bb"
      },
      "execution_count": null,
      "outputs": [
        {
          "output_type": "execute_result",
          "data": {
            "text/plain": [
              "'\\n<h1>이것은 제목입니다</h1>\\n#<h1>이것은 소제목입니다</h1>\\n##<h1>이것은 소소제목입니다</h1>\\n\\n이것은 <strong>굵은글씨</strong> 입니다.\\n이것은 <i>기울어진 글씨</i> 입니다.\\n\\n이것은 `코드블록` 입니다.\\n\\n- 이것은 리스트입니다.\\n- 이것은 또 다른 리스트입니다.\\n\\n1. 이것은 숫자 리스트입니다.\\n2. 이것은 또 다른 숫자 리스트입니다.\\n\\n> 이것은 인용입니다.\\n> 이것은 또 다른 인용입니다.\\n'"
            ],
            "application/vnd.google.colaboratory.intrinsic+json": {
              "type": "string"
            }
          },
          "metadata": {},
          "execution_count": 3
        }
      ]
    },
    {
      "cell_type": "code",
      "source": [
        "# 문제 : https://pyalgo.co.kr/?page=6#"
      ],
      "metadata": {
        "id": "awR4wxuixkKu"
      },
      "execution_count": null,
      "outputs": []
    },
    {
      "cell_type": "code",
      "source": [
        "import re\n",
        "\n",
        "def solution(data):\n",
        "    p = re.compile(r'12341')\n",
        "    data = ''.join(str(i) for i in data)\n",
        "    count = 0\n",
        "    while p.search(data):\n",
        "        data = p.sub('', data, 1) # 3이 카운팅 되도록 replace가능 count를 1로 조정\n",
        "        count +=1\n",
        "    return count\n",
        "solution([1, 1, 1, 2, 3, 4, 1, 2, 3, 4, 1])"
      ],
      "metadata": {
        "colab": {
          "base_uri": "https://localhost:8080/"
        },
        "id": "7IcUSSxEgauh",
        "outputId": "58e4d7ff-3636-452e-8a44-84d6aa799c54"
      },
      "execution_count": null,
      "outputs": [
        {
          "output_type": "execute_result",
          "data": {
            "text/plain": [
              "3"
            ]
          },
          "metadata": {},
          "execution_count": 7
        }
      ]
    },
    {
      "cell_type": "code",
      "source": [
        "data = [1, 1, 1, 2, 3, 4, 1, 2, 3, 4, 1]\n",
        "k = ''.join(str(i) for i in data)\n",
        "p = re.compile(r'12341')\n",
        "count = 0\n",
        "while p.search(k):\n",
        "    k = p.sub('',k)\n",
        "    count +=1\n",
        "count"
      ],
      "metadata": {
        "colab": {
          "base_uri": "https://localhost:8080/"
        },
        "id": "XyrVIml-ibrq",
        "outputId": "470c92b5-8431-4bc7-fce2-a260364bbc49"
      },
      "execution_count": null,
      "outputs": [
        {
          "output_type": "execute_result",
          "data": {
            "text/plain": [
              "2"
            ]
          },
          "metadata": {},
          "execution_count": 17
        }
      ]
    },
    {
      "cell_type": "code",
      "source": [
        "data = [1, 1, 1, 2, 3, 4, 1, 2, 3, 4, 1]\n",
        "''.join(data) #str만 가능하므로 error"
      ],
      "metadata": {
        "id": "kbn3YK_REtth"
      },
      "execution_count": null,
      "outputs": []
    },
    {
      "cell_type": "code",
      "source": [
        "data = [1, 1, 1, 2, 3, 4, 1, 2, 3, 4, 1]\n",
        "''.join(map(str, data))"
      ],
      "metadata": {
        "colab": {
          "base_uri": "https://localhost:8080/",
          "height": 35
        },
        "id": "7-zKAqWSFK0o",
        "outputId": "3c874863-0153-45b8-c01b-31e679908b4a"
      },
      "execution_count": null,
      "outputs": [
        {
          "output_type": "execute_result",
          "data": {
            "text/plain": [
              "'11123412341'"
            ],
            "application/vnd.google.colaboratory.intrinsic+json": {
              "type": "string"
            }
          },
          "metadata": {},
          "execution_count": 3
        }
      ]
    },
    {
      "cell_type": "code",
      "source": [
        "data = [1, 1, 1, 2, 3, 4, 1, 2, 3, 4, 1]\n",
        "s = ''.join(map(str, data))\n",
        "\n",
        "while s.find('12341') != -1:\n",
        "    s = s.replace('12341', '')"
      ],
      "metadata": {
        "id": "PhyAFpM8FqUQ"
      },
      "execution_count": null,
      "outputs": []
    },
    {
      "cell_type": "code",
      "source": [
        "data = [1, 1, 1, 2, 3, 4, 1, 2, 3, 4, 1, 1, 2, 3, 4, 1]\n",
        "s = ''.join(map(str, data))\n",
        "count = 0\n",
        "\n",
        "while s.find('12341') != -1:\n",
        "    s = s.replace('12341', '', 1) # 3이 카운팅 되도록 replace가능 count를 1로 조정\n",
        "    count += 1\n",
        "\n",
        "count"
      ],
      "metadata": {
        "colab": {
          "base_uri": "https://localhost:8080/"
        },
        "id": "9g4VWWteGO3I",
        "outputId": "43f88ac5-0266-4b12-91f6-e869090e6b61"
      },
      "execution_count": null,
      "outputs": [
        {
          "output_type": "execute_result",
          "data": {
            "text/plain": [
              "2"
            ]
          },
          "metadata": {},
          "execution_count": 5
        }
      ]
    },
    {
      "cell_type": "markdown",
      "source": [
        "## (과제) 마크다운 변환 함수 만들기"
      ],
      "metadata": {
        "id": "EZUQdTb3Hym_"
      }
    },
    {
      "cell_type": "code",
      "source": [
        "import re\n",
        "\n",
        "def markdown_to_text(path):\n",
        "    f = open(f'{path}', 'r', encoding='utf-8') #cp949, utf-8, 유니코드\n",
        "    markdown_text = f.read()\n",
        "    f.close()\n",
        "    return markdown_text\n",
        "\n",
        "def md_to_html(md_text)"
      ],
      "metadata": {
        "id": "9kGnTsq7HuUJ"
      },
      "execution_count": null,
      "outputs": []
    },
    {
      "cell_type": "code",
      "source": [
        "# advanced 문제:\n",
        "# 마크다운 파일을 업로드 해서 html파일로 만들어주는 코드를 만들어주세요.\n",
        "from pathlib import Path\n",
        "import re\n",
        "\n",
        "\n",
        "def markdown_to_text(path_and_name):\n",
        "    f = open(f'{path_and_name}', 'r', encoding='utf-8')\n",
        "    markdown_text = f.read()\n",
        "    f.close()\n",
        "    return markdown_text\n",
        "\n",
        "\n",
        "def md_text_to_html_text(md_text):\n",
        "    # Header 1~6\n",
        "    html_text = re.sub(r'###### (.*)', r'<h6>\\1</h6>', md_text)\n",
        "    html_text = re.sub(r'##### (.*)', r'<h5>\\1</h5>', html_text)\n",
        "    html_text = re.sub(r'#### (.*)', r'<h4>\\1</h4>', html_text)\n",
        "    html_text = re.sub(r'### (.*)', r'<h3>\\1</h3>', html_text)\n",
        "    html_text = re.sub(r'## (.*)', r'<h2>\\1</h2>', html_text)\n",
        "    html_text = re.sub(r'# (.*)', r'<h1>\\1</h1>', html_text)\n",
        "\n",
        "    # 코드블록 (여러줄 코드블록도)\n",
        "    html_text = re.sub(r'`{3}(.*)`{3}',\n",
        "                       r'<pre><code>\\1</code></pre>', html_text, flags=re.S)\n",
        "    html_text = re.sub(r'`(.*)`',\n",
        "                       r'<pre><code>\\1</code></pre>', html_text)\n",
        "\n",
        "    # 굵은글씨\n",
        "    html_text = re.sub(r'\\*\\*(.*)\\*\\*', r'<strong>\\1</strong>', html_text)\n",
        "\n",
        "    # 기울어진글씨(이탤릭)\n",
        "    html_text = re.sub(r'\\*(.*)\\*', r'<em>\\1</em>', html_text)\n",
        "\n",
        "    # 리스트\n",
        "    html_text = re.sub(\n",
        "        r'^- ([^-].*)', r'<ul><li>\\1</li></ul>', html_text, flags=re.M)\n",
        "\n",
        "    # 숫자 리스트\n",
        "    html_text = re.sub(r'^\\d. (.*)', r'<ol><li>\\1</li></ol>',\n",
        "                       html_text, flags=re.M)\n",
        "\n",
        "    # 인용(BlockQuote)\n",
        "    html_text = re.sub(\n",
        "        r'^(>+) (.*)', r'<blockquote>\\1\\2</blockquote>', html_text, flags=re.M)\n",
        "\n",
        "    # 취소선?\n",
        "    # html_text = re.sub(r'~~(.*)~~', r'<del>\\1</del>', html_text)\n",
        "\n",
        "    # 링크, 이미지, 표(table) 미구현\n",
        "\n",
        "    return html_text\n",
        "\n",
        "\n",
        "def save_html_file(html_text, path_saving, file_name):\n",
        "    f = open(f'{Path.joinpath(path_saving, file_name)}', 'w', encoding='utf-8')\n",
        "    f.write(html_text)\n",
        "    f.close()\n",
        "    return\n",
        "\n",
        "\n",
        "md_file_path = Path.joinpath(Path.cwd(), 'sample.md')\n",
        "md_text = markdown_to_text(md_file_path)\n",
        "html_text = md_text_to_html_text(md_text)\n",
        "save_html_file(html_text, Path.cwd(), 'parsed.html')"
      ],
      "metadata": {
        "id": "99G3pEVOJ84f"
      },
      "execution_count": null,
      "outputs": []
    }
  ]
}