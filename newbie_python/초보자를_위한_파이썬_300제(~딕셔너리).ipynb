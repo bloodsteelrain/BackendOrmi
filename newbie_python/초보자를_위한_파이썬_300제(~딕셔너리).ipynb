{
  "nbformat": 4,
  "nbformat_minor": 0,
  "metadata": {
    "colab": {
      "provenance": []
    },
    "kernelspec": {
      "name": "python3",
      "display_name": "Python 3"
    },
    "language_info": {
      "name": "python"
    }
  },
  "cells": [
    {
      "cell_type": "markdown",
      "source": [
        " # 초보자를 위한 파이썬 300제"
      ],
      "metadata": {
        "id": "j1D8zQreTDct"
      }
    },
    {
      "cell_type": "markdown",
      "source": [
        "##  04. 파이썬 리스트"
      ],
      "metadata": {
        "id": "FJagBDR4TI08"
      }
    },
    {
      "cell_type": "code",
      "source": [
        "# 051 리스트 생성\n",
        "# 2016년 11월 영화 예매 순위 기준 top3는 다음과 같습니다.\n",
        "# 영화 제목을 movie_rank 이름의 리스트에 저장해보세요. (순위 정보는 저장하지 않습니다.)\n",
        "# 순위\t영화\n",
        "# 1\t닥터 스트레인지\n",
        "# 2\t스플릿\n",
        "# 3\t럭키\n",
        "\n",
        "movie_rank=['닥터 스트레인지', '스플릿', '럭키']\n",
        "movie_rank"
      ],
      "metadata": {
        "colab": {
          "base_uri": "https://localhost:8080/"
        },
        "id": "dgsLITVOTKZM",
        "outputId": "d76138c3-6978-4539-debe-84377fb46ad5"
      },
      "execution_count": null,
      "outputs": [
        {
          "output_type": "execute_result",
          "data": {
            "text/plain": [
              "['닥터 스트레인지', '스플릿', '럭키']"
            ]
          },
          "metadata": {},
          "execution_count": 1
        }
      ]
    },
    {
      "cell_type": "code",
      "source": [
        "# 052 리스트에 원소 추가\n",
        "# 051의 movie_rank 리스트에 \"배트맨\"을 추가하라.\n",
        "movie_rank.append('배트맨')\n",
        "movie_rank"
      ],
      "metadata": {
        "colab": {
          "base_uri": "https://localhost:8080/"
        },
        "id": "dqaF-b6FeZmf",
        "outputId": "f8188d31-b1f9-4ddb-8ab7-1a057833992a"
      },
      "execution_count": null,
      "outputs": [
        {
          "output_type": "execute_result",
          "data": {
            "text/plain": [
              "['닥터 스트레인지', '스플릿', '럭키', '배트맨']"
            ]
          },
          "metadata": {},
          "execution_count": 2
        }
      ]
    },
    {
      "cell_type": "code",
      "source": [
        "# 053\n",
        "# movie_rank 리스트에는 아래와 같이 네 개의 영화 제목이 바인딩되어 있다. \"슈퍼맨\"을 \"닥터 스트레인지\"와 \"스플릿\" 사이에 추가하라.\n",
        "movie_rank.insert(1, '슈퍼맨')\n",
        "movie_rank"
      ],
      "metadata": {
        "colab": {
          "base_uri": "https://localhost:8080/"
        },
        "id": "BIb50m1wfJ5X",
        "outputId": "9fb591d2-1b2f-4ce4-d147-ca4a70103062"
      },
      "execution_count": null,
      "outputs": [
        {
          "output_type": "execute_result",
          "data": {
            "text/plain": [
              "['닥터 스트레인지', '슈퍼맨', '스플릿', '럭키', '배트맨']"
            ]
          },
          "metadata": {},
          "execution_count": 3
        }
      ]
    },
    {
      "cell_type": "code",
      "source": [
        "# 054\n",
        "# movie_rank 리스트에서 '럭키'를 삭제하라.\n",
        "movie_rank = ['닥터 스트레인지', '슈퍼맨', '스플릿', '럭키', '배트맨']\n",
        "movie_rank.remove('럭키')\n",
        "movie_rank"
      ],
      "metadata": {
        "colab": {
          "base_uri": "https://localhost:8080/"
        },
        "id": "TrTE_eJ8gih2",
        "outputId": "b0c675be-df5d-4882-8ebf-0a09d7a76889"
      },
      "execution_count": null,
      "outputs": [
        {
          "output_type": "execute_result",
          "data": {
            "text/plain": [
              "['닥터 스트레인지', '슈퍼맨', '스플릿', '배트맨']"
            ]
          },
          "metadata": {},
          "execution_count": 6
        }
      ]
    },
    {
      "cell_type": "code",
      "source": [
        "# 055\n",
        "# movie_rank 리스트에서 '스플릿' 과 '배트맨'을 를 삭제하라.\n",
        "\n",
        "movie_rank = ['닥터 스트레인지', '슈퍼맨', '스플릿', '배트맨']\n",
        "movie_rank.remove('스플릿')\n",
        "movie_rank.remove('배트맨')\n",
        "movie_rank"
      ],
      "metadata": {
        "colab": {
          "base_uri": "https://localhost:8080/"
        },
        "id": "DZxzTIMgiS7u",
        "outputId": "a30d8139-bdae-411c-a6c3-743a17cc029f"
      },
      "execution_count": null,
      "outputs": [
        {
          "output_type": "execute_result",
          "data": {
            "text/plain": [
              "['닥터 스트레인지', '슈퍼맨']"
            ]
          },
          "metadata": {},
          "execution_count": 8
        }
      ]
    },
    {
      "cell_type": "code",
      "source": [
        "# 056\n",
        "# lang1과 lang2 리스트가 있을 때 lang1과 lang2의 원소를 모두 갖고 있는 langs 리스트를 만들어라.\n",
        "\n",
        "lang1 = [\"C\", \"C++\", \"JAVA\"]\n",
        "lang2 = [\"Python\", \"Go\", \"C#\"]\n",
        "lang1+lang2"
      ],
      "metadata": {
        "colab": {
          "base_uri": "https://localhost:8080/"
        },
        "id": "ZgyRPUpUi4gp",
        "outputId": "8da44b5b-c848-4e03-853d-b153013a14d0"
      },
      "execution_count": null,
      "outputs": [
        {
          "output_type": "execute_result",
          "data": {
            "text/plain": [
              "['C', 'C++', 'JAVA', 'Python', 'Go', 'C#']"
            ]
          },
          "metadata": {},
          "execution_count": 9
        }
      ]
    },
    {
      "cell_type": "code",
      "source": [
        "# 057\n",
        "# 다음 리스트에서 최댓값과 최솟값을 출력하라. (힌트: min(), max() 함수 사용)\n",
        "\n",
        "nums = [1, 2, 3, 4, 5, 6, 7]\n",
        "max(nums), min(nums)"
      ],
      "metadata": {
        "colab": {
          "base_uri": "https://localhost:8080/"
        },
        "id": "yZbOKAtJjEkm",
        "outputId": "49107db0-a1d7-49a2-9ae5-45abc711658c"
      },
      "execution_count": null,
      "outputs": [
        {
          "output_type": "execute_result",
          "data": {
            "text/plain": [
              "(7, 1)"
            ]
          },
          "metadata": {},
          "execution_count": 11
        }
      ]
    },
    {
      "cell_type": "code",
      "source": [
        "# 058\n",
        "# 다음 리스트의 합을 출력하라.\n",
        "\n",
        "nums = [1, 2, 3, 4, 5]\n",
        "sum(nums)"
      ],
      "metadata": {
        "colab": {
          "base_uri": "https://localhost:8080/"
        },
        "id": "Ziz68tZcjgSm",
        "outputId": "9857ad73-7814-4c48-cd17-74825ed84a59"
      },
      "execution_count": null,
      "outputs": [
        {
          "output_type": "execute_result",
          "data": {
            "text/plain": [
              "15"
            ]
          },
          "metadata": {},
          "execution_count": 12
        }
      ]
    },
    {
      "cell_type": "code",
      "source": [
        "# 059\n",
        "# 다음 리스트에 저장된 데이터의 개수를 화면에 구하하라.\n",
        "\n",
        "cook = [\"피자\", \"김밥\", \"만두\", \"양념치킨\", \"족발\", \"피자\", \"김치만두\", \"쫄면\", \"소시지\", \"라면\", \"팥빙수\", \"김치전\"]\n",
        "len(cook)"
      ],
      "metadata": {
        "colab": {
          "base_uri": "https://localhost:8080/"
        },
        "id": "d-yBSNOvj41O",
        "outputId": "38f67c22-54bc-4a5e-9218-7737034efdd9"
      },
      "execution_count": null,
      "outputs": [
        {
          "output_type": "execute_result",
          "data": {
            "text/plain": [
              "12"
            ]
          },
          "metadata": {},
          "execution_count": 13
        }
      ]
    },
    {
      "cell_type": "code",
      "source": [
        "# 060\n",
        "# 다음 리스트의 평균을 출력하라.\n",
        "\n",
        "nums = [1, 2, 3, 4, 5]\n",
        "sum(nums)/len(nums)"
      ],
      "metadata": {
        "colab": {
          "base_uri": "https://localhost:8080/"
        },
        "id": "7dsQCGtpkA0s",
        "outputId": "8b1788cd-47d6-476e-a27a-e7546e8c9f44"
      },
      "execution_count": null,
      "outputs": [
        {
          "output_type": "execute_result",
          "data": {
            "text/plain": [
              "3.0"
            ]
          },
          "metadata": {},
          "execution_count": 14
        }
      ]
    },
    {
      "cell_type": "code",
      "source": [
        "# 061\n",
        "# price 변수에는 날짜와 종가 정보가 저장돼 있다. 날짜 정보를 제외하고 가격 정보만을 출력하라. (힌트 : 슬라이싱)\n",
        "\n",
        "price = ['20180728', 100, 130, 140, 150, 160, 170]\n",
        "price[1:]"
      ],
      "metadata": {
        "colab": {
          "base_uri": "https://localhost:8080/"
        },
        "id": "MO8KW5xQkiRq",
        "outputId": "b1be9b99-2768-44b8-8a05-f61862f775a7"
      },
      "execution_count": null,
      "outputs": [
        {
          "output_type": "execute_result",
          "data": {
            "text/plain": [
              "[100, 130, 140, 150, 160, 170]"
            ]
          },
          "metadata": {},
          "execution_count": 1
        }
      ]
    },
    {
      "cell_type": "code",
      "source": [
        "# 062\n",
        "# 슬라이싱을 사용해서 홀수만 출력하라.\n",
        "\n",
        "nums = [1, 2, 3, 4, 5, 6, 7, 8, 9, 10]\n",
        "nums[::2]"
      ],
      "metadata": {
        "colab": {
          "base_uri": "https://localhost:8080/"
        },
        "id": "Q1wjFeGFku98",
        "outputId": "ef45d67a-87d2-4535-d375-69eb0f4a7595"
      },
      "execution_count": null,
      "outputs": [
        {
          "output_type": "execute_result",
          "data": {
            "text/plain": [
              "[1, 3, 5, 7, 9]"
            ]
          },
          "metadata": {},
          "execution_count": 2
        }
      ]
    },
    {
      "cell_type": "code",
      "source": [
        "# 063\n",
        "# 슬라이싱을 사용해서 짝수만 출력하라.\n",
        "\n",
        "nums = [1, 2, 3, 4, 5, 6, 7, 8, 9, 10]\n",
        "nums[1::2]"
      ],
      "metadata": {
        "colab": {
          "base_uri": "https://localhost:8080/"
        },
        "id": "KbQ12c6UlCYk",
        "outputId": "8c514d64-d3d5-4a9e-8d04-497ef507ddaa"
      },
      "execution_count": null,
      "outputs": [
        {
          "output_type": "execute_result",
          "data": {
            "text/plain": [
              "[2, 4, 6, 8, 10]"
            ]
          },
          "metadata": {},
          "execution_count": 3
        }
      ]
    },
    {
      "cell_type": "code",
      "source": [
        "# 064\n",
        "# 슬라이싱을 사용해서 리스트의 숫자를 역 방향으로 출력하라.\n",
        "\n",
        "nums = [1, 2, 3, 4, 5]\n",
        "nums[::-1]"
      ],
      "metadata": {
        "colab": {
          "base_uri": "https://localhost:8080/"
        },
        "id": "MPcfJrLMlJ5k",
        "outputId": "3f526b0b-3123-4fd0-d806-264a5e58c27c"
      },
      "execution_count": null,
      "outputs": [
        {
          "output_type": "execute_result",
          "data": {
            "text/plain": [
              "[5, 4, 3, 2, 1]"
            ]
          },
          "metadata": {},
          "execution_count": 6
        }
      ]
    },
    {
      "cell_type": "code",
      "source": [
        "# 065\n",
        "# interest 리스트에는 아래의 데이터가 바인딩되어 있다.\n",
        "\n",
        "interest = ['삼성전자', 'LG전자', 'Naver']\n",
        "# interest 리스트를 사용하여 아래와 같이 화면에 출력하라.\n",
        "\n",
        "# 출력 예시:\n",
        "# 삼성전자 Naver\n",
        "print(interest[0])\n",
        "print(interest[2])"
      ],
      "metadata": {
        "colab": {
          "base_uri": "https://localhost:8080/"
        },
        "id": "ZlmtIZzclUty",
        "outputId": "3b9ac157-eb9e-4ce8-dbd0-0277cc6aad16"
      },
      "execution_count": null,
      "outputs": [
        {
          "output_type": "stream",
          "name": "stdout",
          "text": [
            "삼성전자\n",
            "Naver\n"
          ]
        }
      ]
    },
    {
      "cell_type": "code",
      "source": [
        "# 066 join 메서드\n",
        "# interest 리스트에는 아래의 데이터가 바인딩되어 있다.\n",
        "\n",
        "interest = ['삼성전자', 'LG전자', 'Naver', 'SK하이닉스', '미래에셋대우']\n",
        "# interest 리스트를 사용하여 아래와 같이 화면에 출력하라.\n",
        "\n",
        "# 출력 예시:\n",
        "# 삼성전자 LG전자 Naver SK하이닉스 미래에셋대우\n",
        "print(' '.join(interest))"
      ],
      "metadata": {
        "colab": {
          "base_uri": "https://localhost:8080/"
        },
        "id": "MatNgT3GlohD",
        "outputId": "ff522b0f-9392-4f6d-f247-102b88f9fcaa"
      },
      "execution_count": null,
      "outputs": [
        {
          "output_type": "stream",
          "name": "stdout",
          "text": [
            "삼성전자 LG전자 Naver SK하이닉스 미래에셋대우\n"
          ]
        }
      ]
    },
    {
      "cell_type": "code",
      "source": [
        "# 067 join 메서드\n",
        "# interest 리스트에는 아래의 데이터가 바인딩되어 있다.\n",
        "\n",
        "interest = ['삼성전자', 'LG전자', 'Naver', 'SK하이닉스', '미래에셋대우']\n",
        "# interest 리스트를 사용하여 아래와 같이 화면에 출력하라.\n",
        "\n",
        "# 출력 예시:\n",
        "# 삼성전자/LG전자/Naver/SK하이닉스/미래에셋대우\n",
        "print('/'.join(interest))"
      ],
      "metadata": {
        "colab": {
          "base_uri": "https://localhost:8080/"
        },
        "id": "OljF3xhZmn_z",
        "outputId": "18d0f92a-3465-41db-df08-74e45b232b86"
      },
      "execution_count": null,
      "outputs": [
        {
          "output_type": "stream",
          "name": "stdout",
          "text": [
            "삼성전자/LG전자/Naver/SK하이닉스/미래에셋대우\n"
          ]
        }
      ]
    },
    {
      "cell_type": "code",
      "source": [
        "# 068 join 메서드\n",
        "# interest 리스트에는 아래의 데이터가 바인딩되어 있다.\n",
        "\n",
        "interest = ['삼성전자', 'LG전자', 'Naver', 'SK하이닉스', '미래에셋대우']\n",
        "# join() 메서드를 사용해서 interest 리스트를 아래와 같이 화면에 출력하라.\n",
        "\n",
        "# 출력 예시:\n",
        "# 삼성전자\n",
        "# LG전자\n",
        "# Naver\n",
        "# SK하이닉스\n",
        "# 미래에셋대우\n",
        "print('\\n'.join(interest))"
      ],
      "metadata": {
        "colab": {
          "base_uri": "https://localhost:8080/"
        },
        "id": "TV6edtQimvUx",
        "outputId": "bdb7f146-ba0d-48c4-a471-ce3721982e7b"
      },
      "execution_count": null,
      "outputs": [
        {
          "output_type": "stream",
          "name": "stdout",
          "text": [
            "삼성전자\n",
            "LG전자\n",
            "Naver\n",
            "SK하이닉스\n",
            "미래에셋대우\n"
          ]
        }
      ]
    },
    {
      "cell_type": "code",
      "source": [
        "# 069 문자열 split 메서드\n",
        "# 회사 이름이 슬래시 ('/')로 구분되어 하나의 문자열로 저장되어 있다.\n",
        "\n",
        "string = \"삼성전자/LG전자/Naver\"\n",
        "# 이를 interest 이름의 리스트로 분리 저장하라.\n",
        "\n",
        "# 실행 예시\n",
        "# >> print(interest)\n",
        "# ['삼성전자', 'LG전자', 'Naver']\n",
        "string.split('/')"
      ],
      "metadata": {
        "colab": {
          "base_uri": "https://localhost:8080/"
        },
        "id": "RUfT6jYJm7Wh",
        "outputId": "e8827988-0c59-4a40-eac0-bf924329c444"
      },
      "execution_count": null,
      "outputs": [
        {
          "output_type": "execute_result",
          "data": {
            "text/plain": [
              "['삼성전자', 'LG전자', 'Naver']"
            ]
          },
          "metadata": {},
          "execution_count": 22
        }
      ]
    },
    {
      "cell_type": "code",
      "source": [
        "# 070 리스트 정렬\n",
        "# 리스트에 있는 값을 오름차순으로 정렬하세요.\n",
        "\n",
        "data = [2, 4, 3, 1, 5, 10, 9]\n",
        "data.sort()\n",
        "data"
      ],
      "metadata": {
        "colab": {
          "base_uri": "https://localhost:8080/"
        },
        "id": "b5r3uodanu6b",
        "outputId": "2a22b93a-e0cd-45f2-a390-e86c35a70b94"
      },
      "execution_count": null,
      "outputs": [
        {
          "output_type": "execute_result",
          "data": {
            "text/plain": [
              "[1, 2, 3, 4, 5, 9, 10]"
            ]
          },
          "metadata": {},
          "execution_count": 26
        }
      ]
    },
    {
      "cell_type": "markdown",
      "source": [
        "## 05. 파이썬 튜플"
      ],
      "metadata": {
        "id": "O2cKPQ8boSOL"
      }
    },
    {
      "cell_type": "code",
      "source": [
        "# 071\n",
        "# my_variable 이름의 비어있는 튜플을 만들라.\n",
        "my_variable=()\n",
        "type(my_variable)"
      ],
      "metadata": {
        "colab": {
          "base_uri": "https://localhost:8080/"
        },
        "id": "jG6MmfgnoRuR",
        "outputId": "6c43da42-4db0-4d0d-ce10-110fd8371e51"
      },
      "execution_count": null,
      "outputs": [
        {
          "output_type": "execute_result",
          "data": {
            "text/plain": [
              "tuple"
            ]
          },
          "metadata": {},
          "execution_count": 27
        }
      ]
    },
    {
      "cell_type": "code",
      "source": [
        "# 072\n",
        "# 2016년 11월 영화 예매 순위 기준 top3는 다음과 같다. 영화 제목을 movie_rank 이름의 튜플에 저장하라. (순위 정보는 저장하지 않는다.)\n",
        "\n",
        "# 순위\t영화\n",
        "# 1\t닥터 스트레인지\n",
        "# 2\t스플릿\n",
        "# 3\t럭키\n",
        "movie_rank=('닥터 스트레인지', '스플릿', '럭키')\n",
        "movie_rank"
      ],
      "metadata": {
        "colab": {
          "base_uri": "https://localhost:8080/"
        },
        "id": "jUB4VdR8ojsr",
        "outputId": "5a39ca64-3c26-4f7f-906f-b255eed9aac9"
      },
      "execution_count": null,
      "outputs": [
        {
          "output_type": "execute_result",
          "data": {
            "text/plain": [
              "('닥터 스트레인지', '스플릿', '럭키')"
            ]
          },
          "metadata": {},
          "execution_count": 28
        }
      ]
    },
    {
      "cell_type": "code",
      "source": [
        "# 073\n",
        "# 숫자 1 이 저장된 튜플을 생성하라.\n",
        "t=(1,)\n",
        "type(t)"
      ],
      "metadata": {
        "colab": {
          "base_uri": "https://localhost:8080/"
        },
        "id": "w1tdamk2o4WS",
        "outputId": "b4f63990-f733-473c-85a0-765e5d9f8c23"
      },
      "execution_count": null,
      "outputs": [
        {
          "output_type": "execute_result",
          "data": {
            "text/plain": [
              "tuple"
            ]
          },
          "metadata": {},
          "execution_count": 31
        }
      ]
    },
    {
      "cell_type": "code",
      "source": [
        "# 074\n",
        "# 다음 코드를 실행해보고 오류가 발생하는 원인을 설명하라.\n",
        "\n",
        "t = (1, 2, 3)\n",
        "t[0] = 'a'\n",
        "# Traceback (most recent call last):\n",
        "#   File \"<pyshell#46>\", line 1, in <module>\n",
        "#     t[0] = 'a'\n",
        "# TypeError: 'tuple' object does not support item assignment\n",
        "# tuple은 원소의 값의 수정이 불가능하다"
      ],
      "metadata": {
        "id": "tmXWb5eipHZR"
      },
      "execution_count": null,
      "outputs": []
    },
    {
      "cell_type": "code",
      "source": [
        "# 075\n",
        "# 아래와 같이 t에는 1, 2, 3, 4 데이터가 바인딩되어 있다. t가 바인딩하는 데이터 타입은 무엇인가?\n",
        "\n",
        "t = 1, 2, 3, 4\n",
        "type(t)"
      ],
      "metadata": {
        "colab": {
          "base_uri": "https://localhost:8080/"
        },
        "id": "zDMVHIqbpS2p",
        "outputId": "1ce7ca92-7825-4b89-ca14-807e57585589"
      },
      "execution_count": null,
      "outputs": [
        {
          "output_type": "execute_result",
          "data": {
            "text/plain": [
              "tuple"
            ]
          },
          "metadata": {},
          "execution_count": 32
        }
      ]
    },
    {
      "cell_type": "code",
      "source": [
        "# 076\n",
        "# 변수 t에는 아래와 같은 값이 저장되어 있다. 변수 t가 ('A', 'b', 'c') 튜플을 가리키도록 수정 하라.\n",
        "\n",
        "t = ('a', 'b', 'c')\n",
        "t = ('A', 'b', 'c')\n",
        "t"
      ],
      "metadata": {
        "colab": {
          "base_uri": "https://localhost:8080/"
        },
        "id": "TY9ky0GXp4Em",
        "outputId": "e77395cd-22e3-4507-a1fc-9905e7f343d9"
      },
      "execution_count": null,
      "outputs": [
        {
          "output_type": "execute_result",
          "data": {
            "text/plain": [
              "('A', 'b', 'c')"
            ]
          },
          "metadata": {},
          "execution_count": 33
        }
      ]
    },
    {
      "cell_type": "code",
      "source": [
        "# 077\n",
        "# 다음 튜플을 리스트로 변환하라.\n",
        "\n",
        "interest = ('삼성전자', 'LG전자', 'SK Hynix')\n",
        "list(interest)"
      ],
      "metadata": {
        "colab": {
          "base_uri": "https://localhost:8080/"
        },
        "id": "ekaW1NmuqFwW",
        "outputId": "1da554d5-2663-4a8a-928c-f5dda172e995"
      },
      "execution_count": null,
      "outputs": [
        {
          "output_type": "execute_result",
          "data": {
            "text/plain": [
              "['삼성전자', 'LG전자', 'SK Hynix']"
            ]
          },
          "metadata": {},
          "execution_count": 34
        }
      ]
    },
    {
      "cell_type": "code",
      "source": [
        "# 078\n",
        "# 다음 리스트를 튜플로 변경하라.\n",
        "\n",
        "interest = ['삼성전자', 'LG전자', 'SK Hynix']\n",
        "tuple(interest)"
      ],
      "metadata": {
        "colab": {
          "base_uri": "https://localhost:8080/"
        },
        "id": "SUe-TDRSqRRC",
        "outputId": "74b87bde-5b86-410e-ab41-b1dc1e989bf0"
      },
      "execution_count": null,
      "outputs": [
        {
          "output_type": "execute_result",
          "data": {
            "text/plain": [
              "('삼성전자', 'LG전자', 'SK Hynix')"
            ]
          },
          "metadata": {},
          "execution_count": 35
        }
      ]
    },
    {
      "cell_type": "code",
      "source": [
        "# 079 튜플 언팩킹\n",
        "# 다음 코드의 실행 결과를 예상하라.\n",
        "\n",
        "temp = ('apple', 'banana', 'cake')\n",
        "a, b, c = temp\n",
        "print(a, b, c)\n",
        "# 'apple', 'banana', 'cake'"
      ],
      "metadata": {
        "colab": {
          "base_uri": "https://localhost:8080/"
        },
        "id": "jRDrrndwqSvx",
        "outputId": "57200fdd-08dd-4f70-93b1-ae52678006ed"
      },
      "execution_count": null,
      "outputs": [
        {
          "output_type": "stream",
          "name": "stdout",
          "text": [
            "apple banana cake\n"
          ]
        }
      ]
    },
    {
      "cell_type": "code",
      "source": [
        "# 080 range 함수\n",
        "# 1 부터 99까지의 정수 중 짝수만 저장된 튜플을 생성하라.\n",
        "\n",
        "# (2, 4, 6, 8 ... 98)\n",
        "data = list(range(2, 100, 2))\n",
        "data"
      ],
      "metadata": {
        "id": "A7xxLbrBrGEI"
      },
      "execution_count": null,
      "outputs": []
    },
    {
      "cell_type": "markdown",
      "source": [
        "## 파이썬 딕셔너리"
      ],
      "metadata": {
        "id": "hONXpRuEpVQE"
      }
    },
    {
      "cell_type": "code",
      "source": [
        "# 081 별 표현식\n",
        "# 기본적으로 데이터 언패킹은 좌변의 변수와 우변 데이터 개수가 같아야 합니다. 하지만 star expression을 사용하면 변수의 개수가 달라도 데이터 언패킹을 할 수 있습니다. 튜플에 저장된 데이터 중에서 앞에 있는 두 개의 데이터만 필요할 경우 나머지 데이터의 언패킹 코드를 작성할 필요가 없습니다.\n",
        "\n",
        "# >> a, b, *c = (0, 1, 2, 3, 4, 5)\n",
        "# >> a\n",
        "# 0\n",
        "# >> b\n",
        "# 1\n",
        "# >> c\n",
        "# [2, 3, 4, 5]\n",
        "# 다음과 같이 10개의 값이 저장된 scores 리스트가 있을 때, start expression을 사용하여 좌측 8개의 값을 valid_score 변수에 바인딩하여라.\n",
        "\n",
        "scores = [8.8, 8.9, 8.7, 9.2, 9.3, 9.7, 9.9, 9.5, 7.8, 9.4]\n",
        "*valid_score, a, b = [8.8, 8.9, 8.7, 9.2, 9.3, 9.7, 9.9, 9.5, 7.8, 9.4]\n",
        "valid_score"
      ],
      "metadata": {
        "colab": {
          "base_uri": "https://localhost:8080/"
        },
        "id": "C2AsgqgtpCI1",
        "outputId": "b4a03fee-d3d4-419f-c00e-e3094cd7b9ab"
      },
      "execution_count": 2,
      "outputs": [
        {
          "output_type": "execute_result",
          "data": {
            "text/plain": [
              "[8.8, 8.9, 8.7, 9.2, 9.3, 9.7, 9.9, 9.5]"
            ]
          },
          "metadata": {},
          "execution_count": 2
        }
      ]
    },
    {
      "cell_type": "code",
      "source": [
        "# 082\n",
        "# 다음과 같이 10개의 값이 저장된 scores 리스트가 있을 때, start expression을 사용하여 우측 8개의 값을 valid_score 변수에 바인딩하여라.\n",
        "\n",
        "scores = [8.8, 8.9, 8.7, 9.2, 9.3, 9.7, 9.9, 9.5, 7.8, 9.4]\n",
        "a, b, *valid_score = [8.8, 8.9, 8.7, 9.2, 9.3, 9.7, 9.9, 9.5, 7.8, 9.4]\n",
        "valid_score"
      ],
      "metadata": {
        "colab": {
          "base_uri": "https://localhost:8080/"
        },
        "id": "bviJax5Lp17x",
        "outputId": "42f3c90a-79e8-4201-8322-c5485ebdd0b2"
      },
      "execution_count": 3,
      "outputs": [
        {
          "output_type": "execute_result",
          "data": {
            "text/plain": [
              "[8.7, 9.2, 9.3, 9.7, 9.9, 9.5, 7.8, 9.4]"
            ]
          },
          "metadata": {},
          "execution_count": 3
        }
      ]
    },
    {
      "cell_type": "code",
      "source": [
        "# 083\n",
        "# 다음과 같이 10개의 값이 저장된 scores 리스트가 있을 때, start expression을 사용하여 가운데 있는 8개의 값을 valid_score 변수에 바인딩하여라.\n",
        "scores = [8.8, 8.9, 8.7, 9.2, 9.3, 9.7, 9.9, 9.5, 7.8, 9.4]\n",
        "a, *valid_score, b = scores\n",
        "valid_score"
      ],
      "metadata": {
        "colab": {
          "base_uri": "https://localhost:8080/"
        },
        "id": "UwuJ6e0jqAlt",
        "outputId": "3200328e-b00e-41ee-e32c-bea3fb4e0011"
      },
      "execution_count": 4,
      "outputs": [
        {
          "output_type": "execute_result",
          "data": {
            "text/plain": [
              "[8.9, 8.7, 9.2, 9.3, 9.7, 9.9, 9.5, 7.8]"
            ]
          },
          "metadata": {},
          "execution_count": 4
        }
      ]
    },
    {
      "cell_type": "code",
      "source": [
        "# 084 비어있는 딕셔너리\n",
        "# temp 이름의 비어있는 딕셔너리를 만들라.\n",
        "\n",
        "temp = {}\n",
        "type(temp)"
      ],
      "metadata": {
        "colab": {
          "base_uri": "https://localhost:8080/"
        },
        "id": "Z3-yNnMNqNvD",
        "outputId": "38720628-b859-4010-8cc2-8c2d5fb0a628"
      },
      "execution_count": 7,
      "outputs": [
        {
          "output_type": "execute_result",
          "data": {
            "text/plain": [
              "dict"
            ]
          },
          "metadata": {},
          "execution_count": 7
        }
      ]
    },
    {
      "cell_type": "code",
      "source": [
        "# 085\n",
        "# 다음 아이스크림 이름과 희망 가격을 딕셔너리로 구성하라.\n",
        "\n",
        "# 이름\t희망 가격\n",
        "# 메로나\t1000\n",
        "# 폴라포\t1200\n",
        "# 빵빠레\t1800\n",
        "a = {'메로나': 1000, '폴라포': 1200, '빵빠레': 1800}\n",
        "a"
      ],
      "metadata": {
        "colab": {
          "base_uri": "https://localhost:8080/"
        },
        "id": "TuWD45ZGqb50",
        "outputId": "a84af45c-bd20-4faf-e3a9-e1e036ca96a8"
      },
      "execution_count": 8,
      "outputs": [
        {
          "output_type": "execute_result",
          "data": {
            "text/plain": [
              "{'메로나': 1000, '폴라포': 1200, '빵빠레': 1800}"
            ]
          },
          "metadata": {},
          "execution_count": 8
        }
      ]
    },
    {
      "cell_type": "code",
      "source": [
        "# 086\n",
        "# 085 번의 딕셔너리에 아래 아이스크림 가격정보를 추가하라.\n",
        "\n",
        "# 이름\t희망 가격\n",
        "# 죠스바\t1200\n",
        "# 월드콘\t1500\n",
        "a['죠스바'] = 1200\n",
        "a['월드콘'] = 1500\n",
        "a"
      ],
      "metadata": {
        "colab": {
          "base_uri": "https://localhost:8080/"
        },
        "id": "zRzAzsIaqwHl",
        "outputId": "33891b42-08c8-485f-e7ff-619b4a4f8abf"
      },
      "execution_count": 9,
      "outputs": [
        {
          "output_type": "execute_result",
          "data": {
            "text/plain": [
              "{'메로나': 1000, '폴라포': 1200, '빵빠레': 1800, '죠스바': 1200, '월드콘': 1500}"
            ]
          },
          "metadata": {},
          "execution_count": 9
        }
      ]
    },
    {
      "cell_type": "code",
      "source": [
        "# 087\n",
        "# 다음 딕셔너리를 사용하여 메로나 가격을 출력하라.\n",
        "\n",
        "# a = {'메로나': 1000,\n",
        "#        '폴로포': 1200,\n",
        "#        '빵빠레': 1800,\n",
        "#        '죠스바': 1200,\n",
        "#        '월드콘': 1500}\n",
        "# 실행 예:\n",
        "# 메로나 가격: 1000\n",
        "print('메로나 가격:', a['메로나'])"
      ],
      "metadata": {
        "colab": {
          "base_uri": "https://localhost:8080/"
        },
        "id": "76fhqz82q81T",
        "outputId": "72f880f0-3c05-4ad6-aa91-a4c941383294"
      },
      "execution_count": 13,
      "outputs": [
        {
          "output_type": "stream",
          "name": "stdout",
          "text": [
            "메로나 가격: 1000\n"
          ]
        }
      ]
    },
    {
      "cell_type": "code",
      "source": [
        "# 088\n",
        "# 다음 딕셔너리에서 메로나의 가격을 1300으로 수정하라.\n",
        "\n",
        "# a = {'메로나': 1000,\n",
        "#        '폴로포': 1200,\n",
        "#        '빵빠레': 1800,\n",
        "#        '죠스바': 1200,\n",
        "#        '월드콘': 1500}\n",
        "a['메로나'] = 1300\n",
        "a"
      ],
      "metadata": {
        "colab": {
          "base_uri": "https://localhost:8080/"
        },
        "id": "HOLbLl-IrxhD",
        "outputId": "2c9ab37f-a2d0-4bda-fcee-0db7d203f549"
      },
      "execution_count": 15,
      "outputs": [
        {
          "output_type": "execute_result",
          "data": {
            "text/plain": [
              "{'메로나': 1300, '폴라포': 1200, '빵빠레': 1800, '죠스바': 1200, '월드콘': 1500}"
            ]
          },
          "metadata": {},
          "execution_count": 15
        }
      ]
    },
    {
      "cell_type": "code",
      "source": [
        "# 089\n",
        "# 다음 딕셔너리에서 메로나를 삭제하라.\n",
        "\n",
        "# a = {'메로나': 1000,\n",
        "#        '폴로포': 1200,\n",
        "#        '빵빠레': 1800,\n",
        "#        '죠스바': 1200,\n",
        "#        '월드콘': 1500}\n",
        "del a['메로나']\n",
        "a"
      ],
      "metadata": {
        "colab": {
          "base_uri": "https://localhost:8080/"
        },
        "id": "I0_dK89hr7XV",
        "outputId": "db7c11d3-dc0b-48d6-d3d6-65ae39f6c5d8"
      },
      "execution_count": 18,
      "outputs": [
        {
          "output_type": "execute_result",
          "data": {
            "text/plain": [
              "{'폴라포': 1200, '빵빠레': 1800, '죠스바': 1200, '월드콘': 1500}"
            ]
          },
          "metadata": {},
          "execution_count": 18
        }
      ]
    },
    {
      "cell_type": "code",
      "source": [
        "# 090\n",
        "# 다음 코드에서 에러가 발생한 원인을 설명하라.\n",
        "\n",
        "# >> icecream = {'폴라포': 1200, '빵빠레': 1800, '월드콘': 1500, '메로나': 1000}\n",
        "# >> icecream['누가바']\n",
        "# Traceback (most recent call last):\n",
        "#   File \"<pyshell#69>\", line 1, in <module>\n",
        "#     icecream['누가바']\n",
        "# KeyError: '누가바'\n",
        "# icecream 딕셔너리 안에 '누가바' key가 존재하지 않아서"
      ],
      "metadata": {
        "id": "ySp3zAqbsWnM"
      },
      "execution_count": null,
      "outputs": []
    }
  ]
}